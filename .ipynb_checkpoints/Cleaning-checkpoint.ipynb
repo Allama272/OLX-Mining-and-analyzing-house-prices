{
 "cells": [
  {
   "cell_type": "code",
   "execution_count": 146,
   "id": "8ac6835a-d15e-4a3f-bb9f-d4b3d2fc2402",
   "metadata": {},
   "outputs": [],
   "source": [
    "import pandas as pd\n",
    "import re"
   ]
  },
  {
   "cell_type": "code",
   "execution_count": 147,
   "id": "489cf7ad-7e98-48b1-a6ca-af0b8aeed2ed",
   "metadata": {},
   "outputs": [],
   "source": [
    "df= pd.read_csv(\"Data\\initial_data.csv\")"
   ]
  },
  {
   "cell_type": "code",
   "execution_count": 148,
   "id": "28784a1f-022c-4adb-a77d-ee002019afd5",
   "metadata": {},
   "outputs": [
    {
     "data": {
      "text/html": [
       "<div>\n",
       "<style scoped>\n",
       "    .dataframe tbody tr th:only-of-type {\n",
       "        vertical-align: middle;\n",
       "    }\n",
       "\n",
       "    .dataframe tbody tr th {\n",
       "        vertical-align: top;\n",
       "    }\n",
       "\n",
       "    .dataframe thead th {\n",
       "        text-align: right;\n",
       "    }\n",
       "</style>\n",
       "<table border=\"1\" class=\"dataframe\">\n",
       "  <thead>\n",
       "    <tr style=\"text-align: right;\">\n",
       "      <th></th>\n",
       "      <th>Price</th>\n",
       "      <th>Bedrooms</th>\n",
       "      <th>Bathrooms</th>\n",
       "      <th>Area</th>\n",
       "      <th>Location</th>\n",
       "    </tr>\n",
       "  </thead>\n",
       "  <tbody>\n",
       "    <tr>\n",
       "      <th>0</th>\n",
       "      <td>EGP 500,000</td>\n",
       "      <td>3</td>\n",
       "      <td>1</td>\n",
       "      <td>120 SQM</td>\n",
       "      <td>Miami, Alexandria•</td>\n",
       "    </tr>\n",
       "    <tr>\n",
       "      <th>1</th>\n",
       "      <td>EGP 3,600,000</td>\n",
       "      <td>4</td>\n",
       "      <td>3</td>\n",
       "      <td>265 SQM</td>\n",
       "      <td>Laurent, Alexandria•</td>\n",
       "    </tr>\n",
       "    <tr>\n",
       "      <th>2</th>\n",
       "      <td>EGP 6,500,000</td>\n",
       "      <td>2</td>\n",
       "      <td>3</td>\n",
       "      <td>214 SQM</td>\n",
       "      <td>San Stefano, Alexandria•</td>\n",
       "    </tr>\n",
       "    <tr>\n",
       "      <th>3</th>\n",
       "      <td>EGP 3,060,000</td>\n",
       "      <td>3</td>\n",
       "      <td>3</td>\n",
       "      <td>204 SQM</td>\n",
       "      <td>San Stefano, Alexandria•</td>\n",
       "    </tr>\n",
       "    <tr>\n",
       "      <th>4</th>\n",
       "      <td>EGP 2,500,000</td>\n",
       "      <td>3</td>\n",
       "      <td>3</td>\n",
       "      <td>165 SQM</td>\n",
       "      <td>Laurent, Alexandria•</td>\n",
       "    </tr>\n",
       "  </tbody>\n",
       "</table>\n",
       "</div>"
      ],
      "text/plain": [
       "           Price Bedrooms Bathrooms     Area                  Location\n",
       "0    EGP 500,000        3         1  120 SQM        Miami, Alexandria•\n",
       "1  EGP 3,600,000        4         3  265 SQM      Laurent, Alexandria•\n",
       "2  EGP 6,500,000        2         3  214 SQM  San Stefano, Alexandria•\n",
       "3  EGP 3,060,000        3         3  204 SQM  San Stefano, Alexandria•\n",
       "4  EGP 2,500,000        3         3  165 SQM      Laurent, Alexandria•"
      ]
     },
     "execution_count": 148,
     "metadata": {},
     "output_type": "execute_result"
    }
   ],
   "source": [
    "df.head()"
   ]
  },
  {
   "cell_type": "code",
   "execution_count": 149,
   "id": "5df196e2-0a11-41fe-a671-9bd06a7f6327",
   "metadata": {},
   "outputs": [
    {
     "data": {
      "text/html": [
       "<div>\n",
       "<style scoped>\n",
       "    .dataframe tbody tr th:only-of-type {\n",
       "        vertical-align: middle;\n",
       "    }\n",
       "\n",
       "    .dataframe tbody tr th {\n",
       "        vertical-align: top;\n",
       "    }\n",
       "\n",
       "    .dataframe thead th {\n",
       "        text-align: right;\n",
       "    }\n",
       "</style>\n",
       "<table border=\"1\" class=\"dataframe\">\n",
       "  <thead>\n",
       "    <tr style=\"text-align: right;\">\n",
       "      <th></th>\n",
       "      <th>Price</th>\n",
       "      <th>Bedrooms</th>\n",
       "      <th>Bathrooms</th>\n",
       "      <th>Area</th>\n",
       "      <th>Location</th>\n",
       "    </tr>\n",
       "  </thead>\n",
       "  <tbody>\n",
       "    <tr>\n",
       "      <th>count</th>\n",
       "      <td>8955</td>\n",
       "      <td>8955</td>\n",
       "      <td>8955</td>\n",
       "      <td>8955</td>\n",
       "      <td>8955</td>\n",
       "    </tr>\n",
       "    <tr>\n",
       "      <th>unique</th>\n",
       "      <td>1063</td>\n",
       "      <td>10</td>\n",
       "      <td>11</td>\n",
       "      <td>313</td>\n",
       "      <td>53</td>\n",
       "    </tr>\n",
       "    <tr>\n",
       "      <th>top</th>\n",
       "      <td>EGP 290,000Negotiable</td>\n",
       "      <td>3</td>\n",
       "      <td>1</td>\n",
       "      <td>120 SQM</td>\n",
       "      <td>Nakheel, Alexandria•</td>\n",
       "    </tr>\n",
       "    <tr>\n",
       "      <th>freq</th>\n",
       "      <td>106</td>\n",
       "      <td>4717</td>\n",
       "      <td>4600</td>\n",
       "      <td>678</td>\n",
       "      <td>1941</td>\n",
       "    </tr>\n",
       "  </tbody>\n",
       "</table>\n",
       "</div>"
      ],
      "text/plain": [
       "                        Price Bedrooms Bathrooms     Area  \\\n",
       "count                    8955     8955      8955     8955   \n",
       "unique                   1063       10        11      313   \n",
       "top     EGP 290,000Negotiable        3         1  120 SQM   \n",
       "freq                      106     4717      4600      678   \n",
       "\n",
       "                    Location  \n",
       "count                   8955  \n",
       "unique                    53  \n",
       "top     Nakheel, Alexandria•  \n",
       "freq                    1941  "
      ]
     },
     "execution_count": 149,
     "metadata": {},
     "output_type": "execute_result"
    }
   ],
   "source": [
    "df.describe()"
   ]
  },
  {
   "cell_type": "code",
   "execution_count": 150,
   "id": "2d846fab-4ece-45e2-bcf0-0f5a12488fc0",
   "metadata": {},
   "outputs": [
    {
     "name": "stdout",
     "output_type": "stream",
     "text": [
      "<class 'pandas.core.frame.DataFrame'>\n",
      "RangeIndex: 8955 entries, 0 to 8954\n",
      "Data columns (total 5 columns):\n",
      " #   Column     Non-Null Count  Dtype \n",
      "---  ------     --------------  ----- \n",
      " 0   Price      8955 non-null   object\n",
      " 1   Bedrooms   8955 non-null   object\n",
      " 2   Bathrooms  8955 non-null   object\n",
      " 3   Area       8955 non-null   object\n",
      " 4   Location   8955 non-null   object\n",
      "dtypes: object(5)\n",
      "memory usage: 349.9+ KB\n"
     ]
    }
   ],
   "source": [
    "df.info()"
   ]
  },
  {
   "cell_type": "markdown",
   "id": "be138765-a7d9-4698-bd31-687b8261bf99",
   "metadata": {},
   "source": [
    "## Lets First Clean Remove strings from price, aream, bedrooms, and bathrooms"
   ]
  },
  {
   "cell_type": "code",
   "execution_count": 151,
   "id": "16bdc4b9-bb61-41cc-977d-a96f15f00e61",
   "metadata": {},
   "outputs": [],
   "source": [
    "df['Price'] = df[\"Price\"].str.replace(r\"[\\D]\",'',regex=True)\n",
    "df['Price'] = df['Price'].astype(int)\n",
    "\n",
    "df['Area'] = df[\"Area\"].str.replace(r\"[\\D]\",'',regex=True)\n",
    "df['Area'] = df['Area'].astype(int)\n",
    "\n",
    "df['Bedrooms'] = df[\"Bedrooms\"].str.replace(r\"[\\D]\",'',regex=True)\n",
    "df['Bedrooms'] = df['Bedrooms'].astype(int)\n",
    "\n",
    "df['Bathrooms'] = df[\"Bathrooms\"].str.replace(r\"[\\D]\",'',regex=True)\n",
    "df['Bathrooms'] = df['Bathrooms'].astype(int)\n"
   ]
  },
  {
   "cell_type": "code",
   "execution_count": 152,
   "id": "6a14940c-00ae-4e09-b50d-0ec0c3c9dc51",
   "metadata": {},
   "outputs": [
    {
     "data": {
      "text/html": [
       "<div>\n",
       "<style scoped>\n",
       "    .dataframe tbody tr th:only-of-type {\n",
       "        vertical-align: middle;\n",
       "    }\n",
       "\n",
       "    .dataframe tbody tr th {\n",
       "        vertical-align: top;\n",
       "    }\n",
       "\n",
       "    .dataframe thead th {\n",
       "        text-align: right;\n",
       "    }\n",
       "</style>\n",
       "<table border=\"1\" class=\"dataframe\">\n",
       "  <thead>\n",
       "    <tr style=\"text-align: right;\">\n",
       "      <th></th>\n",
       "      <th>Price</th>\n",
       "      <th>Bedrooms</th>\n",
       "      <th>Bathrooms</th>\n",
       "      <th>Area</th>\n",
       "      <th>Location</th>\n",
       "    </tr>\n",
       "  </thead>\n",
       "  <tbody>\n",
       "    <tr>\n",
       "      <th>0</th>\n",
       "      <td>500000</td>\n",
       "      <td>3</td>\n",
       "      <td>1</td>\n",
       "      <td>120</td>\n",
       "      <td>Miami, Alexandria•</td>\n",
       "    </tr>\n",
       "    <tr>\n",
       "      <th>1</th>\n",
       "      <td>3600000</td>\n",
       "      <td>4</td>\n",
       "      <td>3</td>\n",
       "      <td>265</td>\n",
       "      <td>Laurent, Alexandria•</td>\n",
       "    </tr>\n",
       "    <tr>\n",
       "      <th>2</th>\n",
       "      <td>6500000</td>\n",
       "      <td>2</td>\n",
       "      <td>3</td>\n",
       "      <td>214</td>\n",
       "      <td>San Stefano, Alexandria•</td>\n",
       "    </tr>\n",
       "    <tr>\n",
       "      <th>3</th>\n",
       "      <td>3060000</td>\n",
       "      <td>3</td>\n",
       "      <td>3</td>\n",
       "      <td>204</td>\n",
       "      <td>San Stefano, Alexandria•</td>\n",
       "    </tr>\n",
       "    <tr>\n",
       "      <th>4</th>\n",
       "      <td>2500000</td>\n",
       "      <td>3</td>\n",
       "      <td>3</td>\n",
       "      <td>165</td>\n",
       "      <td>Laurent, Alexandria•</td>\n",
       "    </tr>\n",
       "  </tbody>\n",
       "</table>\n",
       "</div>"
      ],
      "text/plain": [
       "     Price  Bedrooms  Bathrooms  Area                  Location\n",
       "0   500000         3          1   120        Miami, Alexandria•\n",
       "1  3600000         4          3   265      Laurent, Alexandria•\n",
       "2  6500000         2          3   214  San Stefano, Alexandria•\n",
       "3  3060000         3          3   204  San Stefano, Alexandria•\n",
       "4  2500000         3          3   165      Laurent, Alexandria•"
      ]
     },
     "execution_count": 152,
     "metadata": {},
     "output_type": "execute_result"
    }
   ],
   "source": [
    "df.head()"
   ]
  },
  {
   "cell_type": "code",
   "execution_count": 153,
   "id": "a4ae79a3-2322-4e85-8a5e-446857c9c5df",
   "metadata": {},
   "outputs": [
    {
     "name": "stdout",
     "output_type": "stream",
     "text": [
      "<class 'pandas.core.frame.DataFrame'>\n",
      "RangeIndex: 8955 entries, 0 to 8954\n",
      "Data columns (total 5 columns):\n",
      " #   Column     Non-Null Count  Dtype \n",
      "---  ------     --------------  ----- \n",
      " 0   Price      8955 non-null   int32 \n",
      " 1   Bedrooms   8955 non-null   int32 \n",
      " 2   Bathrooms  8955 non-null   int32 \n",
      " 3   Area       8955 non-null   int32 \n",
      " 4   Location   8955 non-null   object\n",
      "dtypes: int32(4), object(1)\n",
      "memory usage: 210.0+ KB\n"
     ]
    }
   ],
   "source": [
    "df.info()"
   ]
  },
  {
   "cell_type": "markdown",
   "id": "d8c530ee-24c1-42db-8ef8-4594df1115ac",
   "metadata": {},
   "source": [
    "## Remove \"Alexandria\" and only keep the location"
   ]
  },
  {
   "cell_type": "code",
   "execution_count": 163,
   "id": "de20a5c9-c6af-4e67-8665-11c721eb417c",
   "metadata": {},
   "outputs": [],
   "source": [
    "df[\"Location\"] = df[\"Location\"].str.split(',').str[0]"
   ]
  },
  {
   "cell_type": "code",
   "execution_count": 164,
   "id": "bd168261-2eca-4a06-b632-fa0b48e4be31",
   "metadata": {},
   "outputs": [
    {
     "data": {
      "text/html": [
       "<div>\n",
       "<style scoped>\n",
       "    .dataframe tbody tr th:only-of-type {\n",
       "        vertical-align: middle;\n",
       "    }\n",
       "\n",
       "    .dataframe tbody tr th {\n",
       "        vertical-align: top;\n",
       "    }\n",
       "\n",
       "    .dataframe thead th {\n",
       "        text-align: right;\n",
       "    }\n",
       "</style>\n",
       "<table border=\"1\" class=\"dataframe\">\n",
       "  <thead>\n",
       "    <tr style=\"text-align: right;\">\n",
       "      <th></th>\n",
       "      <th>Price</th>\n",
       "      <th>Bedrooms</th>\n",
       "      <th>Bathrooms</th>\n",
       "      <th>Area</th>\n",
       "      <th>Location</th>\n",
       "    </tr>\n",
       "  </thead>\n",
       "  <tbody>\n",
       "    <tr>\n",
       "      <th>0</th>\n",
       "      <td>500000</td>\n",
       "      <td>3</td>\n",
       "      <td>1</td>\n",
       "      <td>120</td>\n",
       "      <td>Miami</td>\n",
       "    </tr>\n",
       "    <tr>\n",
       "      <th>1</th>\n",
       "      <td>3600000</td>\n",
       "      <td>4</td>\n",
       "      <td>3</td>\n",
       "      <td>265</td>\n",
       "      <td>Laurent</td>\n",
       "    </tr>\n",
       "    <tr>\n",
       "      <th>2</th>\n",
       "      <td>6500000</td>\n",
       "      <td>2</td>\n",
       "      <td>3</td>\n",
       "      <td>214</td>\n",
       "      <td>San Stefano</td>\n",
       "    </tr>\n",
       "    <tr>\n",
       "      <th>3</th>\n",
       "      <td>3060000</td>\n",
       "      <td>3</td>\n",
       "      <td>3</td>\n",
       "      <td>204</td>\n",
       "      <td>San Stefano</td>\n",
       "    </tr>\n",
       "    <tr>\n",
       "      <th>4</th>\n",
       "      <td>2500000</td>\n",
       "      <td>3</td>\n",
       "      <td>3</td>\n",
       "      <td>165</td>\n",
       "      <td>Laurent</td>\n",
       "    </tr>\n",
       "  </tbody>\n",
       "</table>\n",
       "</div>"
      ],
      "text/plain": [
       "     Price  Bedrooms  Bathrooms  Area     Location\n",
       "0   500000         3          1   120        Miami\n",
       "1  3600000         4          3   265      Laurent\n",
       "2  6500000         2          3   214  San Stefano\n",
       "3  3060000         3          3   204  San Stefano\n",
       "4  2500000         3          3   165      Laurent"
      ]
     },
     "execution_count": 164,
     "metadata": {},
     "output_type": "execute_result"
    }
   ],
   "source": [
    "df.head()"
   ]
  },
  {
   "cell_type": "code",
   "execution_count": 166,
   "id": "2535d3ac-14aa-458f-973b-43d4ae0d7ce7",
   "metadata": {},
   "outputs": [
    {
     "data": {
      "text/plain": [
       "array(['Miami', 'Laurent', 'San Stefano', 'Agami', 'Smoha', 'Asafra',\n",
       "       'Roushdy', 'Moharam Bik', 'Sidi Beshr', 'Mandara', 'Sidi Gaber',\n",
       "       'Bolkly', 'Cleopatra', 'Kafr Abdo', 'Glim', 'Amreya', 'Saba Pasha',\n",
       "       'Nakheel', 'Gianaclis', 'Gomrok', 'Sporting', 'Montazah',\n",
       "       'Azarita', 'Al Ibrahimiyyah', 'Stanley', 'Maamoura', 'Seyouf',\n",
       "       'Al Hadrah', 'Victoria', 'Camp Caesar', 'Abu Qir', 'Fleming',\n",
       "       'Raml Station', 'Abu Talat', 'Zezenia', 'Dekheila', 'Borg al-Arab',\n",
       "       'Schutz', 'Awayed', 'Shatby', 'Karmous', 'Attarin', 'Wardian',\n",
       "       'Dhahria', 'El Max', 'Bahray - Anfoshy', 'Manshiyya', 'Bacchus',\n",
       "       'Ras El Tin', 'Kabbary', 'Koum al-Dikka', 'Labban', 'Salehia'],\n",
       "      dtype=object)"
      ]
     },
     "execution_count": 166,
     "metadata": {},
     "output_type": "execute_result"
    }
   ],
   "source": [
    "df[\"Location\"].unique()"
   ]
  },
  {
   "cell_type": "markdown",
   "id": "65a7b0bf-a38d-43c1-8c14-7d7bf6eb043f",
   "metadata": {},
   "source": [
    "# Lets replace \"Laurent\" with \"Louran\""
   ]
  },
  {
   "cell_type": "code",
   "execution_count": 169,
   "id": "d539f109-0a34-4688-819f-682fb73babbf",
   "metadata": {},
   "outputs": [],
   "source": [
    "df[\"Location\"] = df[\"Location\"].str.replace('Laurent', \"Louran\")"
   ]
  },
  {
   "cell_type": "code",
   "execution_count": 170,
   "id": "61906088-0fa3-4c7c-8246-1e0ee53d04ca",
   "metadata": {},
   "outputs": [
    {
     "data": {
      "text/plain": [
       "array(['Miami', 'Louran', 'San Stefano', 'Agami', 'Smoha', 'Asafra',\n",
       "       'Roushdy', 'Moharam Bik', 'Sidi Beshr', 'Mandara', 'Sidi Gaber',\n",
       "       'Bolkly', 'Cleopatra', 'Kafr Abdo', 'Glim', 'Amreya', 'Saba Pasha',\n",
       "       'Nakheel', 'Gianaclis', 'Gomrok', 'Sporting', 'Montazah',\n",
       "       'Azarita', 'Al Ibrahimiyyah', 'Stanley', 'Maamoura', 'Seyouf',\n",
       "       'Al Hadrah', 'Victoria', 'Camp Caesar', 'Abu Qir', 'Fleming',\n",
       "       'Raml Station', 'Abu Talat', 'Zezenia', 'Dekheila', 'Borg al-Arab',\n",
       "       'Schutz', 'Awayed', 'Shatby', 'Karmous', 'Attarin', 'Wardian',\n",
       "       'Dhahria', 'El Max', 'Bahray - Anfoshy', 'Manshiyya', 'Bacchus',\n",
       "       'Ras El Tin', 'Kabbary', 'Koum al-Dikka', 'Labban', 'Salehia'],\n",
       "      dtype=object)"
      ]
     },
     "execution_count": 170,
     "metadata": {},
     "output_type": "execute_result"
    }
   ],
   "source": [
    "df[\"Location\"].unique()"
   ]
  },
  {
   "cell_type": "code",
   "execution_count": 171,
   "id": "79640533-9dd2-4693-aa89-0bd0e7edeee2",
   "metadata": {},
   "outputs": [
    {
     "data": {
      "text/html": [
       "<div>\n",
       "<style scoped>\n",
       "    .dataframe tbody tr th:only-of-type {\n",
       "        vertical-align: middle;\n",
       "    }\n",
       "\n",
       "    .dataframe tbody tr th {\n",
       "        vertical-align: top;\n",
       "    }\n",
       "\n",
       "    .dataframe thead th {\n",
       "        text-align: right;\n",
       "    }\n",
       "</style>\n",
       "<table border=\"1\" class=\"dataframe\">\n",
       "  <thead>\n",
       "    <tr style=\"text-align: right;\">\n",
       "      <th></th>\n",
       "      <th>Price</th>\n",
       "      <th>Bedrooms</th>\n",
       "      <th>Bathrooms</th>\n",
       "      <th>Area</th>\n",
       "      <th>Location</th>\n",
       "    </tr>\n",
       "  </thead>\n",
       "  <tbody>\n",
       "    <tr>\n",
       "      <th>0</th>\n",
       "      <td>500000</td>\n",
       "      <td>3</td>\n",
       "      <td>1</td>\n",
       "      <td>120</td>\n",
       "      <td>Miami</td>\n",
       "    </tr>\n",
       "    <tr>\n",
       "      <th>1</th>\n",
       "      <td>3600000</td>\n",
       "      <td>4</td>\n",
       "      <td>3</td>\n",
       "      <td>265</td>\n",
       "      <td>Louran</td>\n",
       "    </tr>\n",
       "    <tr>\n",
       "      <th>2</th>\n",
       "      <td>6500000</td>\n",
       "      <td>2</td>\n",
       "      <td>3</td>\n",
       "      <td>214</td>\n",
       "      <td>San Stefano</td>\n",
       "    </tr>\n",
       "    <tr>\n",
       "      <th>3</th>\n",
       "      <td>3060000</td>\n",
       "      <td>3</td>\n",
       "      <td>3</td>\n",
       "      <td>204</td>\n",
       "      <td>San Stefano</td>\n",
       "    </tr>\n",
       "    <tr>\n",
       "      <th>4</th>\n",
       "      <td>2500000</td>\n",
       "      <td>3</td>\n",
       "      <td>3</td>\n",
       "      <td>165</td>\n",
       "      <td>Louran</td>\n",
       "    </tr>\n",
       "  </tbody>\n",
       "</table>\n",
       "</div>"
      ],
      "text/plain": [
       "     Price  Bedrooms  Bathrooms  Area     Location\n",
       "0   500000         3          1   120        Miami\n",
       "1  3600000         4          3   265       Louran\n",
       "2  6500000         2          3   214  San Stefano\n",
       "3  3060000         3          3   204  San Stefano\n",
       "4  2500000         3          3   165       Louran"
      ]
     },
     "execution_count": 171,
     "metadata": {},
     "output_type": "execute_result"
    }
   ],
   "source": [
    "df.head()"
   ]
  },
  {
   "cell_type": "code",
   "execution_count": 172,
   "id": "b3c9c3ba-fc60-404d-aa1f-c6b5b95609d9",
   "metadata": {},
   "outputs": [
    {
     "name": "stdout",
     "output_type": "stream",
     "text": [
      "<class 'pandas.core.frame.DataFrame'>\n",
      "RangeIndex: 8955 entries, 0 to 8954\n",
      "Data columns (total 5 columns):\n",
      " #   Column     Non-Null Count  Dtype \n",
      "---  ------     --------------  ----- \n",
      " 0   Price      8955 non-null   int32 \n",
      " 1   Bedrooms   8955 non-null   int32 \n",
      " 2   Bathrooms  8955 non-null   int32 \n",
      " 3   Area       8955 non-null   int32 \n",
      " 4   Location   8955 non-null   object\n",
      "dtypes: int32(4), object(1)\n",
      "memory usage: 210.0+ KB\n"
     ]
    }
   ],
   "source": [
    "df.info()"
   ]
  },
  {
   "cell_type": "markdown",
   "id": "f2682b7f-ad9c-49bf-95f2-f32f3863147d",
   "metadata": {},
   "source": [
    "# Finally, It's All Clean Lets now save it"
   ]
  },
  {
   "cell_type": "code",
   "execution_count": 173,
   "id": "61405b5d-9f2e-46df-b0e0-e5226f16dc5b",
   "metadata": {},
   "outputs": [],
   "source": [
    "df.to_csv('Data/clean_main_data.csv', index= False)"
   ]
  }
 ],
 "metadata": {
  "kernelspec": {
   "display_name": "Python 3 (ipykernel)",
   "language": "python",
   "name": "python3"
  },
  "language_info": {
   "codemirror_mode": {
    "name": "ipython",
    "version": 3
   },
   "file_extension": ".py",
   "mimetype": "text/x-python",
   "name": "python",
   "nbconvert_exporter": "python",
   "pygments_lexer": "ipython3",
   "version": "3.9.12"
  }
 },
 "nbformat": 4,
 "nbformat_minor": 5
}
