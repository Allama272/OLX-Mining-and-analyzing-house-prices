{
 "cells": [
  {
   "cell_type": "code",
   "execution_count": 1,
   "id": "8ac6835a-d15e-4a3f-bb9f-d4b3d2fc2402",
   "metadata": {},
   "outputs": [],
   "source": [
    "import pandas as pd\n",
    "import re\n",
    "from datetime import date"
   ]
  },
  {
   "cell_type": "code",
   "execution_count": 2,
   "id": "489cf7ad-7e98-48b1-a6ca-af0b8aeed2ed",
   "metadata": {},
   "outputs": [],
   "source": [
    "df= pd.read_csv(\"Data\\initial_Data(01-31-23).csv\")"
   ]
  },
  {
   "cell_type": "code",
   "execution_count": 3,
   "id": "28784a1f-022c-4adb-a77d-ee002019afd5",
   "metadata": {},
   "outputs": [
    {
     "data": {
      "text/html": [
       "<div>\n",
       "<style scoped>\n",
       "    .dataframe tbody tr th:only-of-type {\n",
       "        vertical-align: middle;\n",
       "    }\n",
       "\n",
       "    .dataframe tbody tr th {\n",
       "        vertical-align: top;\n",
       "    }\n",
       "\n",
       "    .dataframe thead th {\n",
       "        text-align: right;\n",
       "    }\n",
       "</style>\n",
       "<table border=\"1\" class=\"dataframe\">\n",
       "  <thead>\n",
       "    <tr style=\"text-align: right;\">\n",
       "      <th></th>\n",
       "      <th>Price</th>\n",
       "      <th>Bedrooms</th>\n",
       "      <th>Bathrooms</th>\n",
       "      <th>Area</th>\n",
       "      <th>Location</th>\n",
       "      <th>id</th>\n",
       "    </tr>\n",
       "  </thead>\n",
       "  <tbody>\n",
       "    <tr>\n",
       "      <th>0</th>\n",
       "      <td>EGP 3,800,000</td>\n",
       "      <td>3</td>\n",
       "      <td>2</td>\n",
       "      <td>165 SQM</td>\n",
       "      <td>Maamoura, Alexandria•</td>\n",
       "      <td>193349318</td>\n",
       "    </tr>\n",
       "    <tr>\n",
       "      <th>1</th>\n",
       "      <td>EGP 7,000,000</td>\n",
       "      <td>5</td>\n",
       "      <td>5</td>\n",
       "      <td>442 SQM</td>\n",
       "      <td>Smoha, Alexandria•</td>\n",
       "      <td>195609810</td>\n",
       "    </tr>\n",
       "    <tr>\n",
       "      <th>2</th>\n",
       "      <td>EGP 3,250,000</td>\n",
       "      <td>3</td>\n",
       "      <td>2</td>\n",
       "      <td>188 SQM</td>\n",
       "      <td>Kafr Abdo, Alexandria•</td>\n",
       "      <td>195082183</td>\n",
       "    </tr>\n",
       "    <tr>\n",
       "      <th>3</th>\n",
       "      <td>EGP 1,500,000</td>\n",
       "      <td>2</td>\n",
       "      <td>1</td>\n",
       "      <td>126 SQM</td>\n",
       "      <td>Roushdy, Alexandria•</td>\n",
       "      <td>195155604</td>\n",
       "    </tr>\n",
       "    <tr>\n",
       "      <th>4</th>\n",
       "      <td>EGP 2,300,000</td>\n",
       "      <td>4</td>\n",
       "      <td>1</td>\n",
       "      <td>160 SQM</td>\n",
       "      <td>Sidi Beshr, Alexandria•</td>\n",
       "      <td>194914485</td>\n",
       "    </tr>\n",
       "  </tbody>\n",
       "</table>\n",
       "</div>"
      ],
      "text/plain": [
       "           Price  Bedrooms Bathrooms     Area                 Location  \\\n",
       "0  EGP 3,800,000         3         2  165 SQM    Maamoura, Alexandria•   \n",
       "1  EGP 7,000,000         5         5  442 SQM       Smoha, Alexandria•   \n",
       "2  EGP 3,250,000         3         2  188 SQM   Kafr Abdo, Alexandria•   \n",
       "3  EGP 1,500,000         2         1  126 SQM     Roushdy, Alexandria•   \n",
       "4  EGP 2,300,000         4         1  160 SQM  Sidi Beshr, Alexandria•   \n",
       "\n",
       "          id  \n",
       "0  193349318  \n",
       "1  195609810  \n",
       "2  195082183  \n",
       "3  195155604  \n",
       "4  194914485  "
      ]
     },
     "execution_count": 3,
     "metadata": {},
     "output_type": "execute_result"
    }
   ],
   "source": [
    "df.head()"
   ]
  },
  {
   "cell_type": "code",
   "execution_count": 4,
   "id": "5df196e2-0a11-41fe-a671-9bd06a7f6327",
   "metadata": {},
   "outputs": [
    {
     "data": {
      "text/html": [
       "<div>\n",
       "<style scoped>\n",
       "    .dataframe tbody tr th:only-of-type {\n",
       "        vertical-align: middle;\n",
       "    }\n",
       "\n",
       "    .dataframe tbody tr th {\n",
       "        vertical-align: top;\n",
       "    }\n",
       "\n",
       "    .dataframe thead th {\n",
       "        text-align: right;\n",
       "    }\n",
       "</style>\n",
       "<table border=\"1\" class=\"dataframe\">\n",
       "  <thead>\n",
       "    <tr style=\"text-align: right;\">\n",
       "      <th></th>\n",
       "      <th>Bedrooms</th>\n",
       "      <th>id</th>\n",
       "    </tr>\n",
       "  </thead>\n",
       "  <tbody>\n",
       "    <tr>\n",
       "      <th>count</th>\n",
       "      <td>5919.000000</td>\n",
       "      <td>5.919000e+03</td>\n",
       "    </tr>\n",
       "    <tr>\n",
       "      <th>mean</th>\n",
       "      <td>2.743876</td>\n",
       "      <td>1.943653e+08</td>\n",
       "    </tr>\n",
       "    <tr>\n",
       "      <th>std</th>\n",
       "      <td>0.746029</td>\n",
       "      <td>2.620180e+06</td>\n",
       "    </tr>\n",
       "    <tr>\n",
       "      <th>min</th>\n",
       "      <td>1.000000</td>\n",
       "      <td>1.452196e+08</td>\n",
       "    </tr>\n",
       "    <tr>\n",
       "      <th>25%</th>\n",
       "      <td>2.000000</td>\n",
       "      <td>1.943638e+08</td>\n",
       "    </tr>\n",
       "    <tr>\n",
       "      <th>50%</th>\n",
       "      <td>3.000000</td>\n",
       "      <td>1.948444e+08</td>\n",
       "    </tr>\n",
       "    <tr>\n",
       "      <th>75%</th>\n",
       "      <td>3.000000</td>\n",
       "      <td>1.953232e+08</td>\n",
       "    </tr>\n",
       "    <tr>\n",
       "      <th>max</th>\n",
       "      <td>10.000000</td>\n",
       "      <td>1.956434e+08</td>\n",
       "    </tr>\n",
       "  </tbody>\n",
       "</table>\n",
       "</div>"
      ],
      "text/plain": [
       "          Bedrooms            id\n",
       "count  5919.000000  5.919000e+03\n",
       "mean      2.743876  1.943653e+08\n",
       "std       0.746029  2.620180e+06\n",
       "min       1.000000  1.452196e+08\n",
       "25%       2.000000  1.943638e+08\n",
       "50%       3.000000  1.948444e+08\n",
       "75%       3.000000  1.953232e+08\n",
       "max      10.000000  1.956434e+08"
      ]
     },
     "execution_count": 4,
     "metadata": {},
     "output_type": "execute_result"
    }
   ],
   "source": [
    "df.describe()"
   ]
  },
  {
   "cell_type": "code",
   "execution_count": 11,
   "id": "cfdec396-76d5-44de-8c18-715b2f00573c",
   "metadata": {},
   "outputs": [
    {
     "data": {
      "text/plain": [
       "5873"
      ]
     },
     "execution_count": 11,
     "metadata": {},
     "output_type": "execute_result"
    }
   ],
   "source": [
    "df[\"id\"].nunique()"
   ]
  },
  {
   "cell_type": "code",
   "execution_count": 13,
   "id": "130d0747-169a-461f-964f-8e0ff492bf10",
   "metadata": {},
   "outputs": [
    {
     "data": {
      "text/html": [
       "<div>\n",
       "<style scoped>\n",
       "    .dataframe tbody tr th:only-of-type {\n",
       "        vertical-align: middle;\n",
       "    }\n",
       "\n",
       "    .dataframe tbody tr th {\n",
       "        vertical-align: top;\n",
       "    }\n",
       "\n",
       "    .dataframe thead th {\n",
       "        text-align: right;\n",
       "    }\n",
       "</style>\n",
       "<table border=\"1\" class=\"dataframe\">\n",
       "  <thead>\n",
       "    <tr style=\"text-align: right;\">\n",
       "      <th></th>\n",
       "      <th>Price</th>\n",
       "      <th>Bedrooms</th>\n",
       "      <th>Bathrooms</th>\n",
       "      <th>Area</th>\n",
       "      <th>Location</th>\n",
       "      <th>id</th>\n",
       "    </tr>\n",
       "  </thead>\n",
       "  <tbody>\n",
       "    <tr>\n",
       "      <th>656</th>\n",
       "      <td>EGP 3,500,000</td>\n",
       "      <td>3</td>\n",
       "      <td>2</td>\n",
       "      <td>200 SQM</td>\n",
       "      <td>Roushdy, Alexandria•</td>\n",
       "      <td>185984446</td>\n",
       "    </tr>\n",
       "    <tr>\n",
       "      <th>7</th>\n",
       "      <td>EGP 3,500,000</td>\n",
       "      <td>3</td>\n",
       "      <td>2</td>\n",
       "      <td>200 SQM</td>\n",
       "      <td>Roushdy, Alexandria•</td>\n",
       "      <td>185984446</td>\n",
       "    </tr>\n",
       "    <tr>\n",
       "      <th>0</th>\n",
       "      <td>EGP 3,800,000</td>\n",
       "      <td>3</td>\n",
       "      <td>2</td>\n",
       "      <td>165 SQM</td>\n",
       "      <td>Maamoura, Alexandria•</td>\n",
       "      <td>193349318</td>\n",
       "    </tr>\n",
       "    <tr>\n",
       "      <th>711</th>\n",
       "      <td>EGP 3,800,000</td>\n",
       "      <td>3</td>\n",
       "      <td>2</td>\n",
       "      <td>165 SQM</td>\n",
       "      <td>Maamoura, Alexandria•</td>\n",
       "      <td>193349318</td>\n",
       "    </tr>\n",
       "    <tr>\n",
       "      <th>333</th>\n",
       "      <td>EGP 6,000,000</td>\n",
       "      <td>3</td>\n",
       "      <td>3</td>\n",
       "      <td>248 SQM</td>\n",
       "      <td>Smoha, Alexandria•</td>\n",
       "      <td>193648833</td>\n",
       "    </tr>\n",
       "    <tr>\n",
       "      <th>...</th>\n",
       "      <td>...</td>\n",
       "      <td>...</td>\n",
       "      <td>...</td>\n",
       "      <td>...</td>\n",
       "      <td>...</td>\n",
       "      <td>...</td>\n",
       "    </tr>\n",
       "    <tr>\n",
       "      <th>22</th>\n",
       "      <td>EGP 4,650,000</td>\n",
       "      <td>3</td>\n",
       "      <td>3</td>\n",
       "      <td>240 SQM</td>\n",
       "      <td>Kafr Abdo, Alexandria•</td>\n",
       "      <td>195614128</td>\n",
       "    </tr>\n",
       "    <tr>\n",
       "      <th>36</th>\n",
       "      <td>EGP 8,700,000</td>\n",
       "      <td>3</td>\n",
       "      <td>3</td>\n",
       "      <td>350 SQM</td>\n",
       "      <td>Smoha, Alexandria•</td>\n",
       "      <td>195630348</td>\n",
       "    </tr>\n",
       "    <tr>\n",
       "      <th>179</th>\n",
       "      <td>EGP 8,700,000</td>\n",
       "      <td>3</td>\n",
       "      <td>3</td>\n",
       "      <td>350 SQM</td>\n",
       "      <td>Smoha, Alexandria•</td>\n",
       "      <td>195630348</td>\n",
       "    </tr>\n",
       "    <tr>\n",
       "      <th>35</th>\n",
       "      <td>EGP 490,000Negotiable</td>\n",
       "      <td>2</td>\n",
       "      <td>1</td>\n",
       "      <td>110 SQM</td>\n",
       "      <td>Abu Talat, Alexandria•</td>\n",
       "      <td>195643234</td>\n",
       "    </tr>\n",
       "    <tr>\n",
       "      <th>49</th>\n",
       "      <td>EGP 490,000Negotiable</td>\n",
       "      <td>2</td>\n",
       "      <td>1</td>\n",
       "      <td>110 SQM</td>\n",
       "      <td>Abu Talat, Alexandria•</td>\n",
       "      <td>195643234</td>\n",
       "    </tr>\n",
       "  </tbody>\n",
       "</table>\n",
       "<p>92 rows × 6 columns</p>\n",
       "</div>"
      ],
      "text/plain": [
       "                     Price  Bedrooms Bathrooms     Area  \\\n",
       "656          EGP 3,500,000         3         2  200 SQM   \n",
       "7            EGP 3,500,000         3         2  200 SQM   \n",
       "0            EGP 3,800,000         3         2  165 SQM   \n",
       "711          EGP 3,800,000         3         2  165 SQM   \n",
       "333          EGP 6,000,000         3         3  248 SQM   \n",
       "..                     ...       ...       ...      ...   \n",
       "22           EGP 4,650,000         3         3  240 SQM   \n",
       "36           EGP 8,700,000         3         3  350 SQM   \n",
       "179          EGP 8,700,000         3         3  350 SQM   \n",
       "35   EGP 490,000Negotiable         2         1  110 SQM   \n",
       "49   EGP 490,000Negotiable         2         1  110 SQM   \n",
       "\n",
       "                   Location         id  \n",
       "656    Roushdy, Alexandria•  185984446  \n",
       "7      Roushdy, Alexandria•  185984446  \n",
       "0     Maamoura, Alexandria•  193349318  \n",
       "711   Maamoura, Alexandria•  193349318  \n",
       "333      Smoha, Alexandria•  193648833  \n",
       "..                      ...        ...  \n",
       "22   Kafr Abdo, Alexandria•  195614128  \n",
       "36       Smoha, Alexandria•  195630348  \n",
       "179      Smoha, Alexandria•  195630348  \n",
       "35   Abu Talat, Alexandria•  195643234  \n",
       "49   Abu Talat, Alexandria•  195643234  \n",
       "\n",
       "[92 rows x 6 columns]"
      ]
     },
     "execution_count": 13,
     "metadata": {},
     "output_type": "execute_result"
    }
   ],
   "source": [
    "ids = df[\"id\"]\n",
    "df[ids.isin(ids[ids.duplicated()])].sort_values(\"id\")"
   ]
  },
  {
   "cell_type": "code",
   "execution_count": 11,
   "id": "2d846fab-4ece-45e2-bcf0-0f5a12488fc0",
   "metadata": {},
   "outputs": [
    {
     "name": "stdout",
     "output_type": "stream",
     "text": [
      "<class 'pandas.core.frame.DataFrame'>\n",
      "RangeIndex: 5919 entries, 0 to 5918\n",
      "Data columns (total 6 columns):\n",
      " #   Column     Non-Null Count  Dtype \n",
      "---  ------     --------------  ----- \n",
      " 0   Price      5919 non-null   object\n",
      " 1   Bedrooms   5919 non-null   int64 \n",
      " 2   Bathrooms  5919 non-null   object\n",
      " 3   Area       5919 non-null   object\n",
      " 4   Location   5919 non-null   object\n",
      " 5   id         5919 non-null   int64 \n",
      "dtypes: int64(2), object(4)\n",
      "memory usage: 277.6+ KB\n"
     ]
    }
   ],
   "source": [
    "df.info()"
   ]
  },
  {
   "cell_type": "markdown",
   "id": "be138765-a7d9-4698-bd31-687b8261bf99",
   "metadata": {},
   "source": [
    "## Lets First Clean Remove strings from price, area, and bathrooms"
   ]
  },
  {
   "cell_type": "code",
   "execution_count": 12,
   "id": "16bdc4b9-bb61-41cc-977d-a96f15f00e61",
   "metadata": {},
   "outputs": [],
   "source": [
    "df['Price'] = df[\"Price\"].str.replace(r\"[\\D]\",'',regex=True)\n",
    "df['Price'] = df['Price'].astype(int)\n",
    "\n",
    "df['Area'] = df[\"Area\"].str.replace(r\"[\\D]\",'',regex=True)\n",
    "df['Area'] = df['Area'].astype(int)\n",
    "\n",
    "\n",
    "df['Bathrooms'] = df[\"Bathrooms\"].str.replace(r\"[\\D]\",'',regex=True)\n",
    "df['Bathrooms'] = df['Bathrooms'].astype(int)\n"
   ]
  },
  {
   "cell_type": "code",
   "execution_count": 13,
   "id": "6a14940c-00ae-4e09-b50d-0ec0c3c9dc51",
   "metadata": {},
   "outputs": [
    {
     "data": {
      "text/html": [
       "<div>\n",
       "<style scoped>\n",
       "    .dataframe tbody tr th:only-of-type {\n",
       "        vertical-align: middle;\n",
       "    }\n",
       "\n",
       "    .dataframe tbody tr th {\n",
       "        vertical-align: top;\n",
       "    }\n",
       "\n",
       "    .dataframe thead th {\n",
       "        text-align: right;\n",
       "    }\n",
       "</style>\n",
       "<table border=\"1\" class=\"dataframe\">\n",
       "  <thead>\n",
       "    <tr style=\"text-align: right;\">\n",
       "      <th></th>\n",
       "      <th>Price</th>\n",
       "      <th>Bedrooms</th>\n",
       "      <th>Bathrooms</th>\n",
       "      <th>Area</th>\n",
       "      <th>Location</th>\n",
       "      <th>id</th>\n",
       "    </tr>\n",
       "  </thead>\n",
       "  <tbody>\n",
       "    <tr>\n",
       "      <th>0</th>\n",
       "      <td>3800000</td>\n",
       "      <td>3</td>\n",
       "      <td>2</td>\n",
       "      <td>165</td>\n",
       "      <td>Maamoura, Alexandria•</td>\n",
       "      <td>193349318</td>\n",
       "    </tr>\n",
       "    <tr>\n",
       "      <th>1</th>\n",
       "      <td>7000000</td>\n",
       "      <td>5</td>\n",
       "      <td>5</td>\n",
       "      <td>442</td>\n",
       "      <td>Smoha, Alexandria•</td>\n",
       "      <td>195609810</td>\n",
       "    </tr>\n",
       "    <tr>\n",
       "      <th>2</th>\n",
       "      <td>3250000</td>\n",
       "      <td>3</td>\n",
       "      <td>2</td>\n",
       "      <td>188</td>\n",
       "      <td>Kafr Abdo, Alexandria•</td>\n",
       "      <td>195082183</td>\n",
       "    </tr>\n",
       "    <tr>\n",
       "      <th>3</th>\n",
       "      <td>1500000</td>\n",
       "      <td>2</td>\n",
       "      <td>1</td>\n",
       "      <td>126</td>\n",
       "      <td>Roushdy, Alexandria•</td>\n",
       "      <td>195155604</td>\n",
       "    </tr>\n",
       "    <tr>\n",
       "      <th>4</th>\n",
       "      <td>2300000</td>\n",
       "      <td>4</td>\n",
       "      <td>1</td>\n",
       "      <td>160</td>\n",
       "      <td>Sidi Beshr, Alexandria•</td>\n",
       "      <td>194914485</td>\n",
       "    </tr>\n",
       "  </tbody>\n",
       "</table>\n",
       "</div>"
      ],
      "text/plain": [
       "     Price  Bedrooms  Bathrooms  Area                 Location         id\n",
       "0  3800000         3          2   165    Maamoura, Alexandria•  193349318\n",
       "1  7000000         5          5   442       Smoha, Alexandria•  195609810\n",
       "2  3250000         3          2   188   Kafr Abdo, Alexandria•  195082183\n",
       "3  1500000         2          1   126     Roushdy, Alexandria•  195155604\n",
       "4  2300000         4          1   160  Sidi Beshr, Alexandria•  194914485"
      ]
     },
     "execution_count": 13,
     "metadata": {},
     "output_type": "execute_result"
    }
   ],
   "source": [
    "df.head()"
   ]
  },
  {
   "cell_type": "code",
   "execution_count": 14,
   "id": "a4ae79a3-2322-4e85-8a5e-446857c9c5df",
   "metadata": {},
   "outputs": [
    {
     "name": "stdout",
     "output_type": "stream",
     "text": [
      "<class 'pandas.core.frame.DataFrame'>\n",
      "RangeIndex: 5919 entries, 0 to 5918\n",
      "Data columns (total 6 columns):\n",
      " #   Column     Non-Null Count  Dtype \n",
      "---  ------     --------------  ----- \n",
      " 0   Price      5919 non-null   int32 \n",
      " 1   Bedrooms   5919 non-null   int64 \n",
      " 2   Bathrooms  5919 non-null   int32 \n",
      " 3   Area       5919 non-null   int32 \n",
      " 4   Location   5919 non-null   object\n",
      " 5   id         5919 non-null   int64 \n",
      "dtypes: int32(3), int64(2), object(1)\n",
      "memory usage: 208.2+ KB\n"
     ]
    }
   ],
   "source": [
    "df.info()"
   ]
  },
  {
   "cell_type": "markdown",
   "id": "d8c530ee-24c1-42db-8ef8-4594df1115ac",
   "metadata": {},
   "source": [
    "## Remove \"Alexandria\" and only keep the location"
   ]
  },
  {
   "cell_type": "code",
   "execution_count": 15,
   "id": "de20a5c9-c6af-4e67-8665-11c721eb417c",
   "metadata": {},
   "outputs": [],
   "source": [
    "df[\"Location\"] = df[\"Location\"].str.split(',').str[0]"
   ]
  },
  {
   "cell_type": "code",
   "execution_count": 16,
   "id": "bd168261-2eca-4a06-b632-fa0b48e4be31",
   "metadata": {},
   "outputs": [
    {
     "data": {
      "text/html": [
       "<div>\n",
       "<style scoped>\n",
       "    .dataframe tbody tr th:only-of-type {\n",
       "        vertical-align: middle;\n",
       "    }\n",
       "\n",
       "    .dataframe tbody tr th {\n",
       "        vertical-align: top;\n",
       "    }\n",
       "\n",
       "    .dataframe thead th {\n",
       "        text-align: right;\n",
       "    }\n",
       "</style>\n",
       "<table border=\"1\" class=\"dataframe\">\n",
       "  <thead>\n",
       "    <tr style=\"text-align: right;\">\n",
       "      <th></th>\n",
       "      <th>Price</th>\n",
       "      <th>Bedrooms</th>\n",
       "      <th>Bathrooms</th>\n",
       "      <th>Area</th>\n",
       "      <th>Location</th>\n",
       "      <th>id</th>\n",
       "    </tr>\n",
       "  </thead>\n",
       "  <tbody>\n",
       "    <tr>\n",
       "      <th>0</th>\n",
       "      <td>3800000</td>\n",
       "      <td>3</td>\n",
       "      <td>2</td>\n",
       "      <td>165</td>\n",
       "      <td>Maamoura</td>\n",
       "      <td>193349318</td>\n",
       "    </tr>\n",
       "    <tr>\n",
       "      <th>1</th>\n",
       "      <td>7000000</td>\n",
       "      <td>5</td>\n",
       "      <td>5</td>\n",
       "      <td>442</td>\n",
       "      <td>Smoha</td>\n",
       "      <td>195609810</td>\n",
       "    </tr>\n",
       "    <tr>\n",
       "      <th>2</th>\n",
       "      <td>3250000</td>\n",
       "      <td>3</td>\n",
       "      <td>2</td>\n",
       "      <td>188</td>\n",
       "      <td>Kafr Abdo</td>\n",
       "      <td>195082183</td>\n",
       "    </tr>\n",
       "    <tr>\n",
       "      <th>3</th>\n",
       "      <td>1500000</td>\n",
       "      <td>2</td>\n",
       "      <td>1</td>\n",
       "      <td>126</td>\n",
       "      <td>Roushdy</td>\n",
       "      <td>195155604</td>\n",
       "    </tr>\n",
       "    <tr>\n",
       "      <th>4</th>\n",
       "      <td>2300000</td>\n",
       "      <td>4</td>\n",
       "      <td>1</td>\n",
       "      <td>160</td>\n",
       "      <td>Sidi Beshr</td>\n",
       "      <td>194914485</td>\n",
       "    </tr>\n",
       "  </tbody>\n",
       "</table>\n",
       "</div>"
      ],
      "text/plain": [
       "     Price  Bedrooms  Bathrooms  Area    Location         id\n",
       "0  3800000         3          2   165    Maamoura  193349318\n",
       "1  7000000         5          5   442       Smoha  195609810\n",
       "2  3250000         3          2   188   Kafr Abdo  195082183\n",
       "3  1500000         2          1   126     Roushdy  195155604\n",
       "4  2300000         4          1   160  Sidi Beshr  194914485"
      ]
     },
     "execution_count": 16,
     "metadata": {},
     "output_type": "execute_result"
    }
   ],
   "source": [
    "df.head()"
   ]
  },
  {
   "cell_type": "code",
   "execution_count": 17,
   "id": "2535d3ac-14aa-458f-973b-43d4ae0d7ce7",
   "metadata": {},
   "outputs": [
    {
     "data": {
      "text/plain": [
       "array(['Maamoura', 'Smoha', 'Kafr Abdo', 'Roushdy', 'Sidi Beshr',\n",
       "       'Sporting', 'Agami', 'Laurent', 'Saba Pasha', 'Glim', 'Asafra',\n",
       "       'Zezenia', 'Moharam Bik', 'Miami', 'Gianaclis', 'Abu Talat',\n",
       "       'Sidi Gaber', 'Stanley', 'Bacchus', 'Victoria', 'Nakheel',\n",
       "       'Mandara', 'Abu Qir', 'San Stefano', 'Bolkly', 'Schutz',\n",
       "       'Cleopatra', 'Montazah', 'Al Ibrahimiyyah', 'Raml Station',\n",
       "       'Dekheila', 'Bahray - Anfoshy', 'Seyouf', 'Amreya', 'Camp Caesar',\n",
       "       'Azarita', 'Fleming', 'Gomrok', 'Labban', 'Borg al-Arab',\n",
       "       'Dhahria', 'Awayed', '•', 'Attarin', 'Manshiyya', 'Al Hadrah',\n",
       "       'Wardian', 'El Max', 'Salehia', 'Ras El Tin', 'Shatby',\n",
       "       'Koum al-Dikka', 'Kabbary'], dtype=object)"
      ]
     },
     "execution_count": 17,
     "metadata": {},
     "output_type": "execute_result"
    }
   ],
   "source": [
    "df[\"Location\"].unique()"
   ]
  },
  {
   "cell_type": "markdown",
   "id": "65a7b0bf-a38d-43c1-8c14-7d7bf6eb043f",
   "metadata": {},
   "source": [
    "# Lets replace \"Laurent\" with \"Louran\""
   ]
  },
  {
   "cell_type": "code",
   "execution_count": 18,
   "id": "d539f109-0a34-4688-819f-682fb73babbf",
   "metadata": {},
   "outputs": [],
   "source": [
    "df[\"Location\"] = df[\"Location\"].str.replace('Laurent', \"Louran\")"
   ]
  },
  {
   "cell_type": "code",
   "execution_count": 19,
   "id": "61906088-0fa3-4c7c-8246-1e0ee53d04ca",
   "metadata": {},
   "outputs": [
    {
     "data": {
      "text/plain": [
       "array(['Maamoura', 'Smoha', 'Kafr Abdo', 'Roushdy', 'Sidi Beshr',\n",
       "       'Sporting', 'Agami', 'Louran', 'Saba Pasha', 'Glim', 'Asafra',\n",
       "       'Zezenia', 'Moharam Bik', 'Miami', 'Gianaclis', 'Abu Talat',\n",
       "       'Sidi Gaber', 'Stanley', 'Bacchus', 'Victoria', 'Nakheel',\n",
       "       'Mandara', 'Abu Qir', 'San Stefano', 'Bolkly', 'Schutz',\n",
       "       'Cleopatra', 'Montazah', 'Al Ibrahimiyyah', 'Raml Station',\n",
       "       'Dekheila', 'Bahray - Anfoshy', 'Seyouf', 'Amreya', 'Camp Caesar',\n",
       "       'Azarita', 'Fleming', 'Gomrok', 'Labban', 'Borg al-Arab',\n",
       "       'Dhahria', 'Awayed', '•', 'Attarin', 'Manshiyya', 'Al Hadrah',\n",
       "       'Wardian', 'El Max', 'Salehia', 'Ras El Tin', 'Shatby',\n",
       "       'Koum al-Dikka', 'Kabbary'], dtype=object)"
      ]
     },
     "execution_count": 19,
     "metadata": {},
     "output_type": "execute_result"
    }
   ],
   "source": [
    "df[\"Location\"].unique()"
   ]
  },
  {
   "cell_type": "code",
   "execution_count": 20,
   "id": "79640533-9dd2-4693-aa89-0bd0e7edeee2",
   "metadata": {},
   "outputs": [
    {
     "data": {
      "text/html": [
       "<div>\n",
       "<style scoped>\n",
       "    .dataframe tbody tr th:only-of-type {\n",
       "        vertical-align: middle;\n",
       "    }\n",
       "\n",
       "    .dataframe tbody tr th {\n",
       "        vertical-align: top;\n",
       "    }\n",
       "\n",
       "    .dataframe thead th {\n",
       "        text-align: right;\n",
       "    }\n",
       "</style>\n",
       "<table border=\"1\" class=\"dataframe\">\n",
       "  <thead>\n",
       "    <tr style=\"text-align: right;\">\n",
       "      <th></th>\n",
       "      <th>Price</th>\n",
       "      <th>Bedrooms</th>\n",
       "      <th>Bathrooms</th>\n",
       "      <th>Area</th>\n",
       "      <th>Location</th>\n",
       "      <th>id</th>\n",
       "    </tr>\n",
       "  </thead>\n",
       "  <tbody>\n",
       "    <tr>\n",
       "      <th>0</th>\n",
       "      <td>3800000</td>\n",
       "      <td>3</td>\n",
       "      <td>2</td>\n",
       "      <td>165</td>\n",
       "      <td>Maamoura</td>\n",
       "      <td>193349318</td>\n",
       "    </tr>\n",
       "    <tr>\n",
       "      <th>1</th>\n",
       "      <td>7000000</td>\n",
       "      <td>5</td>\n",
       "      <td>5</td>\n",
       "      <td>442</td>\n",
       "      <td>Smoha</td>\n",
       "      <td>195609810</td>\n",
       "    </tr>\n",
       "    <tr>\n",
       "      <th>2</th>\n",
       "      <td>3250000</td>\n",
       "      <td>3</td>\n",
       "      <td>2</td>\n",
       "      <td>188</td>\n",
       "      <td>Kafr Abdo</td>\n",
       "      <td>195082183</td>\n",
       "    </tr>\n",
       "    <tr>\n",
       "      <th>3</th>\n",
       "      <td>1500000</td>\n",
       "      <td>2</td>\n",
       "      <td>1</td>\n",
       "      <td>126</td>\n",
       "      <td>Roushdy</td>\n",
       "      <td>195155604</td>\n",
       "    </tr>\n",
       "    <tr>\n",
       "      <th>4</th>\n",
       "      <td>2300000</td>\n",
       "      <td>4</td>\n",
       "      <td>1</td>\n",
       "      <td>160</td>\n",
       "      <td>Sidi Beshr</td>\n",
       "      <td>194914485</td>\n",
       "    </tr>\n",
       "  </tbody>\n",
       "</table>\n",
       "</div>"
      ],
      "text/plain": [
       "     Price  Bedrooms  Bathrooms  Area    Location         id\n",
       "0  3800000         3          2   165    Maamoura  193349318\n",
       "1  7000000         5          5   442       Smoha  195609810\n",
       "2  3250000         3          2   188   Kafr Abdo  195082183\n",
       "3  1500000         2          1   126     Roushdy  195155604\n",
       "4  2300000         4          1   160  Sidi Beshr  194914485"
      ]
     },
     "execution_count": 20,
     "metadata": {},
     "output_type": "execute_result"
    }
   ],
   "source": [
    "df.head()"
   ]
  },
  {
   "cell_type": "code",
   "execution_count": 21,
   "id": "b3c9c3ba-fc60-404d-aa1f-c6b5b95609d9",
   "metadata": {},
   "outputs": [
    {
     "name": "stdout",
     "output_type": "stream",
     "text": [
      "<class 'pandas.core.frame.DataFrame'>\n",
      "RangeIndex: 5919 entries, 0 to 5918\n",
      "Data columns (total 6 columns):\n",
      " #   Column     Non-Null Count  Dtype \n",
      "---  ------     --------------  ----- \n",
      " 0   Price      5919 non-null   int32 \n",
      " 1   Bedrooms   5919 non-null   int64 \n",
      " 2   Bathrooms  5919 non-null   int32 \n",
      " 3   Area       5919 non-null   int32 \n",
      " 4   Location   5919 non-null   object\n",
      " 5   id         5919 non-null   int64 \n",
      "dtypes: int32(3), int64(2), object(1)\n",
      "memory usage: 208.2+ KB\n"
     ]
    }
   ],
   "source": [
    "df.info()"
   ]
  },
  {
   "cell_type": "markdown",
   "id": "f2682b7f-ad9c-49bf-95f2-f32f3863147d",
   "metadata": {},
   "source": [
    "# Finally, It's All Clean Lets now save it"
   ]
  },
  {
   "cell_type": "code",
   "execution_count": 24,
   "id": "d5e58495-f8b4-4d9b-9048-7999d32a2f6f",
   "metadata": {},
   "outputs": [
    {
     "name": "stdout",
     "output_type": "stream",
     "text": [
      "clean_data(01-31-23)\n"
     ]
    }
   ],
   "source": [
    "today = date.today()\n",
    "current_date = today.strftime(\"%m-%d-%y\")\n",
    "csv_name=\"clean_data({})\".format(current_date)\n",
    "print(csv_name)"
   ]
  },
  {
   "cell_type": "code",
   "execution_count": 25,
   "id": "61405b5d-9f2e-46df-b0e0-e5226f16dc5b",
   "metadata": {},
   "outputs": [],
   "source": [
    "df.to_csv(\"Data/\"+csv_name+\".csv\",index=False)"
   ]
  }
 ],
 "metadata": {
  "kernelspec": {
   "display_name": "Python 3 (ipykernel)",
   "language": "python",
   "name": "python3"
  },
  "language_info": {
   "codemirror_mode": {
    "name": "ipython",
    "version": 3
   },
   "file_extension": ".py",
   "mimetype": "text/x-python",
   "name": "python",
   "nbconvert_exporter": "python",
   "pygments_lexer": "ipython3",
   "version": "3.9.12"
  }
 },
 "nbformat": 4,
 "nbformat_minor": 5
}
