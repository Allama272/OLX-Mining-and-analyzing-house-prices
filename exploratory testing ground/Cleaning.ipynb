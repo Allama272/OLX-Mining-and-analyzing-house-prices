{
 "cells": [
  {
   "cell_type": "code",
   "execution_count": 140,
   "id": "8ac6835a-d15e-4a3f-bb9f-d4b3d2fc2402",
   "metadata": {},
   "outputs": [],
   "source": [
    "import pandas as pd\n",
    "import re\n",
    "from datetime import date"
   ]
  },
  {
   "cell_type": "code",
   "execution_count": 156,
   "id": "489cf7ad-7e98-48b1-a6ca-af0b8aeed2ed",
   "metadata": {},
   "outputs": [],
   "source": [
    "df= pd.read_csv(\"Data/initial_Data(02-01-23).csv\")"
   ]
  },
  {
   "cell_type": "code",
   "execution_count": 151,
   "id": "28784a1f-022c-4adb-a77d-ee002019afd5",
   "metadata": {},
   "outputs": [
    {
     "data": {
      "text/html": [
       "<div>\n",
       "<style scoped>\n",
       "    .dataframe tbody tr th:only-of-type {\n",
       "        vertical-align: middle;\n",
       "    }\n",
       "\n",
       "    .dataframe tbody tr th {\n",
       "        vertical-align: top;\n",
       "    }\n",
       "\n",
       "    .dataframe thead th {\n",
       "        text-align: right;\n",
       "    }\n",
       "</style>\n",
       "<table border=\"1\" class=\"dataframe\">\n",
       "  <thead>\n",
       "    <tr style=\"text-align: right;\">\n",
       "      <th></th>\n",
       "      <th>Price</th>\n",
       "      <th>Bedrooms</th>\n",
       "      <th>Bathrooms</th>\n",
       "      <th>Area</th>\n",
       "      <th>Location</th>\n",
       "      <th>date</th>\n",
       "      <th>id</th>\n",
       "    </tr>\n",
       "  </thead>\n",
       "  <tbody>\n",
       "    <tr>\n",
       "      <th>0</th>\n",
       "      <td>EGP 1,100,000</td>\n",
       "      <td>3</td>\n",
       "      <td>2</td>\n",
       "      <td>165 SQM</td>\n",
       "      <td>Seyouf, Alexandria•</td>\n",
       "      <td>2023-01-26</td>\n",
       "      <td>194727255</td>\n",
       "    </tr>\n",
       "    <tr>\n",
       "      <th>1</th>\n",
       "      <td>EGP 2,050,000</td>\n",
       "      <td>4</td>\n",
       "      <td>2</td>\n",
       "      <td>205 SQM</td>\n",
       "      <td>Laurent, Alexandria•</td>\n",
       "      <td>2023-01-26</td>\n",
       "      <td>195269781</td>\n",
       "    </tr>\n",
       "    <tr>\n",
       "      <th>2</th>\n",
       "      <td>EGP 1,150,000</td>\n",
       "      <td>2</td>\n",
       "      <td>1</td>\n",
       "      <td>110 SQM</td>\n",
       "      <td>Sidi Beshr, Alexandria•</td>\n",
       "      <td>2023-01-26</td>\n",
       "      <td>195311167</td>\n",
       "    </tr>\n",
       "    <tr>\n",
       "      <th>3</th>\n",
       "      <td>EGP 3,250,000</td>\n",
       "      <td>1</td>\n",
       "      <td>2</td>\n",
       "      <td>77 SQM</td>\n",
       "      <td>Moharam Bik, Alexandria•</td>\n",
       "      <td>2023-01-26</td>\n",
       "      <td>195021040</td>\n",
       "    </tr>\n",
       "    <tr>\n",
       "      <th>4</th>\n",
       "      <td>EGP 5,850,000</td>\n",
       "      <td>2</td>\n",
       "      <td>3</td>\n",
       "      <td>142 SQM</td>\n",
       "      <td>Moharam Bik, Alexandria•</td>\n",
       "      <td>2023-01-26</td>\n",
       "      <td>195021675</td>\n",
       "    </tr>\n",
       "  </tbody>\n",
       "</table>\n",
       "</div>"
      ],
      "text/plain": [
       "           Price  Bedrooms Bathrooms     Area                  Location  \\\n",
       "0  EGP 1,100,000         3         2  165 SQM       Seyouf, Alexandria•   \n",
       "1  EGP 2,050,000         4         2  205 SQM      Laurent, Alexandria•   \n",
       "2  EGP 1,150,000         2         1  110 SQM   Sidi Beshr, Alexandria•   \n",
       "3  EGP 3,250,000         1         2   77 SQM  Moharam Bik, Alexandria•   \n",
       "4  EGP 5,850,000         2         3  142 SQM  Moharam Bik, Alexandria•   \n",
       "\n",
       "         date         id  \n",
       "0  2023-01-26  194727255  \n",
       "1  2023-01-26  195269781  \n",
       "2  2023-01-26  195311167  \n",
       "3  2023-01-26  195021040  \n",
       "4  2023-01-26  195021675  "
      ]
     },
     "execution_count": 151,
     "metadata": {},
     "output_type": "execute_result"
    }
   ],
   "source": [
    "df.head()"
   ]
  },
  {
   "cell_type": "code",
   "execution_count": 143,
   "id": "5df196e2-0a11-41fe-a671-9bd06a7f6327",
   "metadata": {},
   "outputs": [
    {
     "data": {
      "text/html": [
       "<div>\n",
       "<style scoped>\n",
       "    .dataframe tbody tr th:only-of-type {\n",
       "        vertical-align: middle;\n",
       "    }\n",
       "\n",
       "    .dataframe tbody tr th {\n",
       "        vertical-align: top;\n",
       "    }\n",
       "\n",
       "    .dataframe thead th {\n",
       "        text-align: right;\n",
       "    }\n",
       "</style>\n",
       "<table border=\"1\" class=\"dataframe\">\n",
       "  <thead>\n",
       "    <tr style=\"text-align: right;\">\n",
       "      <th></th>\n",
       "      <th>Bedrooms</th>\n",
       "      <th>id</th>\n",
       "    </tr>\n",
       "  </thead>\n",
       "  <tbody>\n",
       "    <tr>\n",
       "      <th>count</th>\n",
       "      <td>5911.000000</td>\n",
       "      <td>5.911000e+03</td>\n",
       "    </tr>\n",
       "    <tr>\n",
       "      <th>mean</th>\n",
       "      <td>2.744882</td>\n",
       "      <td>1.943896e+08</td>\n",
       "    </tr>\n",
       "    <tr>\n",
       "      <th>std</th>\n",
       "      <td>0.738050</td>\n",
       "      <td>2.637094e+06</td>\n",
       "    </tr>\n",
       "    <tr>\n",
       "      <th>min</th>\n",
       "      <td>1.000000</td>\n",
       "      <td>1.452196e+08</td>\n",
       "    </tr>\n",
       "    <tr>\n",
       "      <th>25%</th>\n",
       "      <td>2.000000</td>\n",
       "      <td>1.944017e+08</td>\n",
       "    </tr>\n",
       "    <tr>\n",
       "      <th>50%</th>\n",
       "      <td>3.000000</td>\n",
       "      <td>1.948785e+08</td>\n",
       "    </tr>\n",
       "    <tr>\n",
       "      <th>75%</th>\n",
       "      <td>3.000000</td>\n",
       "      <td>1.953499e+08</td>\n",
       "    </tr>\n",
       "    <tr>\n",
       "      <th>max</th>\n",
       "      <td>10.000000</td>\n",
       "      <td>1.956657e+08</td>\n",
       "    </tr>\n",
       "  </tbody>\n",
       "</table>\n",
       "</div>"
      ],
      "text/plain": [
       "          Bedrooms            id\n",
       "count  5911.000000  5.911000e+03\n",
       "mean      2.744882  1.943896e+08\n",
       "std       0.738050  2.637094e+06\n",
       "min       1.000000  1.452196e+08\n",
       "25%       2.000000  1.944017e+08\n",
       "50%       3.000000  1.948785e+08\n",
       "75%       3.000000  1.953499e+08\n",
       "max      10.000000  1.956657e+08"
      ]
     },
     "execution_count": 143,
     "metadata": {},
     "output_type": "execute_result"
    }
   ],
   "source": [
    "df.describe()"
   ]
  },
  {
   "cell_type": "code",
   "execution_count": 149,
   "id": "cfdec396-76d5-44de-8c18-715b2f00573c",
   "metadata": {},
   "outputs": [
    {
     "data": {
      "text/plain": [
       "5866"
      ]
     },
     "execution_count": 149,
     "metadata": {},
     "output_type": "execute_result"
    }
   ],
   "source": [
    "df[\"id\"].nunique()"
   ]
  },
  {
   "cell_type": "code",
   "execution_count": 152,
   "id": "130d0747-169a-461f-964f-8e0ff492bf10",
   "metadata": {},
   "outputs": [
    {
     "data": {
      "text/html": [
       "<div>\n",
       "<style scoped>\n",
       "    .dataframe tbody tr th:only-of-type {\n",
       "        vertical-align: middle;\n",
       "    }\n",
       "\n",
       "    .dataframe tbody tr th {\n",
       "        vertical-align: top;\n",
       "    }\n",
       "\n",
       "    .dataframe thead th {\n",
       "        text-align: right;\n",
       "    }\n",
       "</style>\n",
       "<table border=\"1\" class=\"dataframe\">\n",
       "  <thead>\n",
       "    <tr style=\"text-align: right;\">\n",
       "      <th></th>\n",
       "      <th>Price</th>\n",
       "      <th>Bedrooms</th>\n",
       "      <th>Bathrooms</th>\n",
       "      <th>Area</th>\n",
       "      <th>Location</th>\n",
       "      <th>date</th>\n",
       "      <th>id</th>\n",
       "    </tr>\n",
       "  </thead>\n",
       "  <tbody>\n",
       "    <tr>\n",
       "      <th>819</th>\n",
       "      <td>EGP 3,600,000</td>\n",
       "      <td>3</td>\n",
       "      <td>3</td>\n",
       "      <td>177 SQM</td>\n",
       "      <td>Moharam Bik, Alexandria•</td>\n",
       "      <td>2023-01-25</td>\n",
       "      <td>193295058</td>\n",
       "    </tr>\n",
       "    <tr>\n",
       "      <th>38</th>\n",
       "      <td>EGP 3,600,000</td>\n",
       "      <td>3</td>\n",
       "      <td>3</td>\n",
       "      <td>177 SQM</td>\n",
       "      <td>Moharam Bik, Alexandria•</td>\n",
       "      <td>2023-01-26</td>\n",
       "      <td>193295058</td>\n",
       "    </tr>\n",
       "    <tr>\n",
       "      <th>37</th>\n",
       "      <td>EGP 6,000,000</td>\n",
       "      <td>3</td>\n",
       "      <td>3</td>\n",
       "      <td>248 SQM</td>\n",
       "      <td>Smoha, Alexandria•</td>\n",
       "      <td>2023-01-26</td>\n",
       "      <td>193648833</td>\n",
       "    </tr>\n",
       "    <tr>\n",
       "      <th>482</th>\n",
       "      <td>EGP 6,000,000</td>\n",
       "      <td>3</td>\n",
       "      <td>3</td>\n",
       "      <td>248 SQM</td>\n",
       "      <td>Smoha, Alexandria•</td>\n",
       "      <td>2023-01-29</td>\n",
       "      <td>193648833</td>\n",
       "    </tr>\n",
       "    <tr>\n",
       "      <th>737</th>\n",
       "      <td>EGP 1,500,000</td>\n",
       "      <td>3</td>\n",
       "      <td>1</td>\n",
       "      <td>145 SQM</td>\n",
       "      <td>Laurent, Alexandria•</td>\n",
       "      <td>2023-01-26</td>\n",
       "      <td>193765801</td>\n",
       "    </tr>\n",
       "    <tr>\n",
       "      <th>...</th>\n",
       "      <td>...</td>\n",
       "      <td>...</td>\n",
       "      <td>...</td>\n",
       "      <td>...</td>\n",
       "      <td>...</td>\n",
       "      <td>...</td>\n",
       "      <td>...</td>\n",
       "    </tr>\n",
       "    <tr>\n",
       "      <th>131</th>\n",
       "      <td>EGP 3,200,000</td>\n",
       "      <td>3</td>\n",
       "      <td>2</td>\n",
       "      <td>200 SQM</td>\n",
       "      <td>Smoha, Alexandria•</td>\n",
       "      <td>2023-02-01</td>\n",
       "      <td>195652801</td>\n",
       "    </tr>\n",
       "    <tr>\n",
       "      <th>56</th>\n",
       "      <td>EGP 1,500,000</td>\n",
       "      <td>3</td>\n",
       "      <td>1</td>\n",
       "      <td>145 SQM</td>\n",
       "      <td>Al Ibrahimiyyah, Alexandria•</td>\n",
       "      <td>2023-02-01</td>\n",
       "      <td>195663648</td>\n",
       "    </tr>\n",
       "    <tr>\n",
       "      <th>21</th>\n",
       "      <td>EGP 1,500,000</td>\n",
       "      <td>3</td>\n",
       "      <td>1</td>\n",
       "      <td>145 SQM</td>\n",
       "      <td>Al Ibrahimiyyah, Alexandria•</td>\n",
       "      <td>2023-01-26</td>\n",
       "      <td>195663648</td>\n",
       "    </tr>\n",
       "    <tr>\n",
       "      <th>7</th>\n",
       "      <td>EGP 4,000,000</td>\n",
       "      <td>2</td>\n",
       "      <td>3</td>\n",
       "      <td>235 SQM</td>\n",
       "      <td>Laurent, Alexandria•</td>\n",
       "      <td>2023-01-26</td>\n",
       "      <td>195664025</td>\n",
       "    </tr>\n",
       "    <tr>\n",
       "      <th>50</th>\n",
       "      <td>EGP 4,000,000</td>\n",
       "      <td>2</td>\n",
       "      <td>3</td>\n",
       "      <td>235 SQM</td>\n",
       "      <td>Laurent, Alexandria•</td>\n",
       "      <td>2023-02-01</td>\n",
       "      <td>195664025</td>\n",
       "    </tr>\n",
       "  </tbody>\n",
       "</table>\n",
       "<p>90 rows × 7 columns</p>\n",
       "</div>"
      ],
      "text/plain": [
       "             Price  Bedrooms Bathrooms     Area                      Location  \\\n",
       "819  EGP 3,600,000         3         3  177 SQM      Moharam Bik, Alexandria•   \n",
       "38   EGP 3,600,000         3         3  177 SQM      Moharam Bik, Alexandria•   \n",
       "37   EGP 6,000,000         3         3  248 SQM            Smoha, Alexandria•   \n",
       "482  EGP 6,000,000         3         3  248 SQM            Smoha, Alexandria•   \n",
       "737  EGP 1,500,000         3         1  145 SQM          Laurent, Alexandria•   \n",
       "..             ...       ...       ...      ...                           ...   \n",
       "131  EGP 3,200,000         3         2  200 SQM            Smoha, Alexandria•   \n",
       "56   EGP 1,500,000         3         1  145 SQM  Al Ibrahimiyyah, Alexandria•   \n",
       "21   EGP 1,500,000         3         1  145 SQM  Al Ibrahimiyyah, Alexandria•   \n",
       "7    EGP 4,000,000         2         3  235 SQM          Laurent, Alexandria•   \n",
       "50   EGP 4,000,000         2         3  235 SQM          Laurent, Alexandria•   \n",
       "\n",
       "           date         id  \n",
       "819  2023-01-25  193295058  \n",
       "38   2023-01-26  193295058  \n",
       "37   2023-01-26  193648833  \n",
       "482  2023-01-29  193648833  \n",
       "737  2023-01-26  193765801  \n",
       "..          ...        ...  \n",
       "131  2023-02-01  195652801  \n",
       "56   2023-02-01  195663648  \n",
       "21   2023-01-26  195663648  \n",
       "7    2023-01-26  195664025  \n",
       "50   2023-02-01  195664025  \n",
       "\n",
       "[90 rows x 7 columns]"
      ]
     },
     "execution_count": 152,
     "metadata": {},
     "output_type": "execute_result"
    }
   ],
   "source": [
    "ids = df[\"id\"]\n",
    "df[ids.isin(ids[ids.duplicated()])].sort_values(\"id\")"
   ]
  },
  {
   "cell_type": "code",
   "execution_count": 153,
   "id": "2d846fab-4ece-45e2-bcf0-0f5a12488fc0",
   "metadata": {},
   "outputs": [
    {
     "name": "stdout",
     "output_type": "stream",
     "text": [
      "<class 'pandas.core.frame.DataFrame'>\n",
      "RangeIndex: 5911 entries, 0 to 5910\n",
      "Data columns (total 7 columns):\n",
      " #   Column     Non-Null Count  Dtype \n",
      "---  ------     --------------  ----- \n",
      " 0   Price      5911 non-null   object\n",
      " 1   Bedrooms   5911 non-null   int64 \n",
      " 2   Bathrooms  5911 non-null   object\n",
      " 3   Area       5911 non-null   object\n",
      " 4   Location   5911 non-null   object\n",
      " 5   date       5911 non-null   object\n",
      " 6   id         5911 non-null   int64 \n",
      "dtypes: int64(2), object(5)\n",
      "memory usage: 323.4+ KB\n"
     ]
    }
   ],
   "source": [
    "df.info()"
   ]
  },
  {
   "cell_type": "markdown",
   "id": "be138765-a7d9-4698-bd31-687b8261bf99",
   "metadata": {},
   "source": [
    "## Lets First  Remove strings from price, area, and bathrooms"
   ]
  },
  {
   "cell_type": "code",
   "execution_count": 157,
   "id": "16bdc4b9-bb61-41cc-977d-a96f15f00e61",
   "metadata": {},
   "outputs": [],
   "source": [
    "df['Price'] = df[\"Price\"].str.replace(r\"[\\D]\",'',regex=True)\n",
    "df['Price'] = df['Price'].astype(int)\n",
    "\n",
    "df['Area'] = df[\"Area\"].str.replace(r\"[\\D]\",'',regex=True)\n",
    "df['Area'] = df['Area'].astype(int)\n",
    "\n",
    "\n",
    "df['Bathrooms'] = df[\"Bathrooms\"].str.replace(r\"[\\D]\",'',regex=True)\n",
    "df['Bathrooms'] = df['Bathrooms'].astype(int)\n"
   ]
  },
  {
   "cell_type": "code",
   "execution_count": 148,
   "id": "6a14940c-00ae-4e09-b50d-0ec0c3c9dc51",
   "metadata": {},
   "outputs": [
    {
     "data": {
      "text/html": [
       "<div>\n",
       "<style scoped>\n",
       "    .dataframe tbody tr th:only-of-type {\n",
       "        vertical-align: middle;\n",
       "    }\n",
       "\n",
       "    .dataframe tbody tr th {\n",
       "        vertical-align: top;\n",
       "    }\n",
       "\n",
       "    .dataframe thead th {\n",
       "        text-align: right;\n",
       "    }\n",
       "</style>\n",
       "<table border=\"1\" class=\"dataframe\">\n",
       "  <thead>\n",
       "    <tr style=\"text-align: right;\">\n",
       "      <th></th>\n",
       "      <th>Price</th>\n",
       "      <th>Bedrooms</th>\n",
       "      <th>Bathrooms</th>\n",
       "      <th>Area</th>\n",
       "      <th>Location</th>\n",
       "      <th>date</th>\n",
       "      <th>id</th>\n",
       "    </tr>\n",
       "  </thead>\n",
       "  <tbody>\n",
       "    <tr>\n",
       "      <th>0</th>\n",
       "      <td>1100000</td>\n",
       "      <td>3</td>\n",
       "      <td>2</td>\n",
       "      <td>165</td>\n",
       "      <td>Seyouf, Alexandria•</td>\n",
       "      <td>2023-01-26</td>\n",
       "      <td>194727255</td>\n",
       "    </tr>\n",
       "    <tr>\n",
       "      <th>1</th>\n",
       "      <td>2050000</td>\n",
       "      <td>4</td>\n",
       "      <td>2</td>\n",
       "      <td>205</td>\n",
       "      <td>Laurent, Alexandria•</td>\n",
       "      <td>2023-01-26</td>\n",
       "      <td>195269781</td>\n",
       "    </tr>\n",
       "    <tr>\n",
       "      <th>2</th>\n",
       "      <td>1150000</td>\n",
       "      <td>2</td>\n",
       "      <td>1</td>\n",
       "      <td>110</td>\n",
       "      <td>Sidi Beshr, Alexandria•</td>\n",
       "      <td>2023-01-26</td>\n",
       "      <td>195311167</td>\n",
       "    </tr>\n",
       "    <tr>\n",
       "      <th>3</th>\n",
       "      <td>3250000</td>\n",
       "      <td>1</td>\n",
       "      <td>2</td>\n",
       "      <td>77</td>\n",
       "      <td>Moharam Bik, Alexandria•</td>\n",
       "      <td>2023-01-26</td>\n",
       "      <td>195021040</td>\n",
       "    </tr>\n",
       "    <tr>\n",
       "      <th>4</th>\n",
       "      <td>5850000</td>\n",
       "      <td>2</td>\n",
       "      <td>3</td>\n",
       "      <td>142</td>\n",
       "      <td>Moharam Bik, Alexandria•</td>\n",
       "      <td>2023-01-26</td>\n",
       "      <td>195021675</td>\n",
       "    </tr>\n",
       "  </tbody>\n",
       "</table>\n",
       "</div>"
      ],
      "text/plain": [
       "     Price  Bedrooms  Bathrooms  Area                  Location        date  \\\n",
       "0  1100000         3          2   165       Seyouf, Alexandria•  2023-01-26   \n",
       "1  2050000         4          2   205      Laurent, Alexandria•  2023-01-26   \n",
       "2  1150000         2          1   110   Sidi Beshr, Alexandria•  2023-01-26   \n",
       "3  3250000         1          2    77  Moharam Bik, Alexandria•  2023-01-26   \n",
       "4  5850000         2          3   142  Moharam Bik, Alexandria•  2023-01-26   \n",
       "\n",
       "          id  \n",
       "0  194727255  \n",
       "1  195269781  \n",
       "2  195311167  \n",
       "3  195021040  \n",
       "4  195021675  "
      ]
     },
     "execution_count": 148,
     "metadata": {},
     "output_type": "execute_result"
    }
   ],
   "source": [
    "df.head()"
   ]
  },
  {
   "cell_type": "code",
   "execution_count": 126,
   "id": "a4ae79a3-2322-4e85-8a5e-446857c9c5df",
   "metadata": {},
   "outputs": [
    {
     "name": "stdout",
     "output_type": "stream",
     "text": [
      "<class 'pandas.core.frame.DataFrame'>\n",
      "RangeIndex: 5911 entries, 0 to 5910\n",
      "Data columns (total 7 columns):\n",
      " #   Column     Non-Null Count  Dtype \n",
      "---  ------     --------------  ----- \n",
      " 0   Price      5911 non-null   int32 \n",
      " 1   Bedrooms   5911 non-null   int64 \n",
      " 2   Bathrooms  5911 non-null   int32 \n",
      " 3   Area       5911 non-null   int32 \n",
      " 4   Location   5911 non-null   object\n",
      " 5   date       5911 non-null   object\n",
      " 6   id         5911 non-null   int64 \n",
      "dtypes: int32(3), int64(2), object(2)\n",
      "memory usage: 254.1+ KB\n"
     ]
    }
   ],
   "source": [
    "df.info()"
   ]
  },
  {
   "cell_type": "markdown",
   "id": "d8c530ee-24c1-42db-8ef8-4594df1115ac",
   "metadata": {},
   "source": [
    "## Remove \"Alexandria\" and only keep the location"
   ]
  },
  {
   "cell_type": "code",
   "execution_count": 130,
   "id": "db31b9c2-2b18-45b6-bd87-2ed67b75eb17",
   "metadata": {},
   "outputs": [
    {
     "data": {
      "text/plain": [
       "(5911, 7)"
      ]
     },
     "execution_count": 130,
     "metadata": {},
     "output_type": "execute_result"
    }
   ],
   "source": [
    "df.shape"
   ]
  },
  {
   "cell_type": "code",
   "execution_count": 131,
   "id": "de20a5c9-c6af-4e67-8665-11c721eb417c",
   "metadata": {},
   "outputs": [],
   "source": [
    "df[\"Location\"] = df[\"Location\"].str.split(',').str[0]"
   ]
  },
  {
   "cell_type": "code",
   "execution_count": 132,
   "id": "d91481ba-d713-4ac7-ab48-1685f7bef014",
   "metadata": {},
   "outputs": [
    {
     "data": {
      "text/plain": [
       "str"
      ]
     },
     "execution_count": 132,
     "metadata": {},
     "output_type": "execute_result"
    }
   ],
   "source": [
    "type(df['Location'][0])"
   ]
  },
  {
   "cell_type": "code",
   "execution_count": 133,
   "id": "f0dca809-e7f3-4e81-af25-ed3781bd3c23",
   "metadata": {},
   "outputs": [
    {
     "data": {
      "text/plain": [
       "9"
      ]
     },
     "execution_count": 133,
     "metadata": {},
     "output_type": "execute_result"
    }
   ],
   "source": [
    "df.duplicated().sum()"
   ]
  },
  {
   "cell_type": "code",
   "execution_count": 105,
   "id": "d08ffa1e-a177-4857-bce2-61b23d4dc9c4",
   "metadata": {},
   "outputs": [
    {
     "data": {
      "text/html": [
       "<div>\n",
       "<style scoped>\n",
       "    .dataframe tbody tr th:only-of-type {\n",
       "        vertical-align: middle;\n",
       "    }\n",
       "\n",
       "    .dataframe tbody tr th {\n",
       "        vertical-align: top;\n",
       "    }\n",
       "\n",
       "    .dataframe thead th {\n",
       "        text-align: right;\n",
       "    }\n",
       "</style>\n",
       "<table border=\"1\" class=\"dataframe\">\n",
       "  <thead>\n",
       "    <tr style=\"text-align: right;\">\n",
       "      <th></th>\n",
       "      <th>Price</th>\n",
       "      <th>Bedrooms</th>\n",
       "      <th>Bathrooms</th>\n",
       "      <th>Area</th>\n",
       "      <th>Location</th>\n",
       "      <th>date</th>\n",
       "      <th>id</th>\n",
       "    </tr>\n",
       "  </thead>\n",
       "  <tbody>\n",
       "    <tr>\n",
       "      <th>819</th>\n",
       "      <td>3600000</td>\n",
       "      <td>3</td>\n",
       "      <td>3</td>\n",
       "      <td>177</td>\n",
       "      <td>Moharam Bik</td>\n",
       "      <td>2023-01-25</td>\n",
       "      <td>193295058</td>\n",
       "    </tr>\n",
       "    <tr>\n",
       "      <th>38</th>\n",
       "      <td>3600000</td>\n",
       "      <td>3</td>\n",
       "      <td>3</td>\n",
       "      <td>177</td>\n",
       "      <td>Moharam Bik</td>\n",
       "      <td>2023-01-26</td>\n",
       "      <td>193295058</td>\n",
       "    </tr>\n",
       "    <tr>\n",
       "      <th>37</th>\n",
       "      <td>6000000</td>\n",
       "      <td>3</td>\n",
       "      <td>3</td>\n",
       "      <td>248</td>\n",
       "      <td>Smoha</td>\n",
       "      <td>2023-01-26</td>\n",
       "      <td>193648833</td>\n",
       "    </tr>\n",
       "    <tr>\n",
       "      <th>482</th>\n",
       "      <td>6000000</td>\n",
       "      <td>3</td>\n",
       "      <td>3</td>\n",
       "      <td>248</td>\n",
       "      <td>Smoha</td>\n",
       "      <td>2023-01-29</td>\n",
       "      <td>193648833</td>\n",
       "    </tr>\n",
       "    <tr>\n",
       "      <th>737</th>\n",
       "      <td>1500000</td>\n",
       "      <td>3</td>\n",
       "      <td>1</td>\n",
       "      <td>145</td>\n",
       "      <td>Laurent</td>\n",
       "      <td>2023-01-26</td>\n",
       "      <td>193765801</td>\n",
       "    </tr>\n",
       "    <tr>\n",
       "      <th>...</th>\n",
       "      <td>...</td>\n",
       "      <td>...</td>\n",
       "      <td>...</td>\n",
       "      <td>...</td>\n",
       "      <td>...</td>\n",
       "      <td>...</td>\n",
       "      <td>...</td>\n",
       "    </tr>\n",
       "    <tr>\n",
       "      <th>131</th>\n",
       "      <td>3200000</td>\n",
       "      <td>3</td>\n",
       "      <td>2</td>\n",
       "      <td>200</td>\n",
       "      <td>Smoha</td>\n",
       "      <td>2023-02-01</td>\n",
       "      <td>195652801</td>\n",
       "    </tr>\n",
       "    <tr>\n",
       "      <th>56</th>\n",
       "      <td>1500000</td>\n",
       "      <td>3</td>\n",
       "      <td>1</td>\n",
       "      <td>145</td>\n",
       "      <td>Al Ibrahimiyyah</td>\n",
       "      <td>2023-02-01</td>\n",
       "      <td>195663648</td>\n",
       "    </tr>\n",
       "    <tr>\n",
       "      <th>21</th>\n",
       "      <td>1500000</td>\n",
       "      <td>3</td>\n",
       "      <td>1</td>\n",
       "      <td>145</td>\n",
       "      <td>Al Ibrahimiyyah</td>\n",
       "      <td>2023-01-26</td>\n",
       "      <td>195663648</td>\n",
       "    </tr>\n",
       "    <tr>\n",
       "      <th>7</th>\n",
       "      <td>4000000</td>\n",
       "      <td>2</td>\n",
       "      <td>3</td>\n",
       "      <td>235</td>\n",
       "      <td>Laurent</td>\n",
       "      <td>2023-01-26</td>\n",
       "      <td>195664025</td>\n",
       "    </tr>\n",
       "    <tr>\n",
       "      <th>50</th>\n",
       "      <td>4000000</td>\n",
       "      <td>2</td>\n",
       "      <td>3</td>\n",
       "      <td>235</td>\n",
       "      <td>Laurent</td>\n",
       "      <td>2023-02-01</td>\n",
       "      <td>195664025</td>\n",
       "    </tr>\n",
       "  </tbody>\n",
       "</table>\n",
       "<p>90 rows × 7 columns</p>\n",
       "</div>"
      ],
      "text/plain": [
       "       Price  Bedrooms  Bathrooms  Area         Location        date  \\\n",
       "819  3600000         3          3   177      Moharam Bik  2023-01-25   \n",
       "38   3600000         3          3   177      Moharam Bik  2023-01-26   \n",
       "37   6000000         3          3   248            Smoha  2023-01-26   \n",
       "482  6000000         3          3   248            Smoha  2023-01-29   \n",
       "737  1500000         3          1   145          Laurent  2023-01-26   \n",
       "..       ...       ...        ...   ...              ...         ...   \n",
       "131  3200000         3          2   200            Smoha  2023-02-01   \n",
       "56   1500000         3          1   145  Al Ibrahimiyyah  2023-02-01   \n",
       "21   1500000         3          1   145  Al Ibrahimiyyah  2023-01-26   \n",
       "7    4000000         2          3   235          Laurent  2023-01-26   \n",
       "50   4000000         2          3   235          Laurent  2023-02-01   \n",
       "\n",
       "            id  \n",
       "819  193295058  \n",
       "38   193295058  \n",
       "37   193648833  \n",
       "482  193648833  \n",
       "737  193765801  \n",
       "..         ...  \n",
       "131  195652801  \n",
       "56   195663648  \n",
       "21   195663648  \n",
       "7    195664025  \n",
       "50   195664025  \n",
       "\n",
       "[90 rows x 7 columns]"
      ]
     },
     "execution_count": 105,
     "metadata": {},
     "output_type": "execute_result"
    }
   ],
   "source": [
    "mask = df.id.duplicated(keep=False)\n",
    "df[mask].sort_values('id')"
   ]
  },
  {
   "cell_type": "code",
   "execution_count": 135,
   "id": "ba7b72e1-bf8b-4cf2-b6f5-62e97b8e47e8",
   "metadata": {},
   "outputs": [],
   "source": [
    "dropped= df.drop_duplicates(subset='id')"
   ]
  },
  {
   "cell_type": "code",
   "execution_count": 136,
   "id": "a312e2e8-c50a-496a-8fe0-e8140532156c",
   "metadata": {},
   "outputs": [
    {
     "data": {
      "text/plain": [
       "(5866, 7)"
      ]
     },
     "execution_count": 136,
     "metadata": {},
     "output_type": "execute_result"
    }
   ],
   "source": [
    "dropped.shape"
   ]
  },
  {
   "cell_type": "code",
   "execution_count": 137,
   "id": "de217682-af67-4980-a4eb-1f91fff3ed1f",
   "metadata": {},
   "outputs": [
    {
     "data": {
      "text/plain": [
       "5866"
      ]
     },
     "execution_count": 137,
     "metadata": {},
     "output_type": "execute_result"
    }
   ],
   "source": [
    "dropped[\"id\"].nunique()"
   ]
  },
  {
   "cell_type": "code",
   "execution_count": 138,
   "id": "740622a2-648f-40c2-9bd9-ec42468eef7a",
   "metadata": {},
   "outputs": [
    {
     "data": {
      "text/plain": [
       "5911"
      ]
     },
     "execution_count": 138,
     "metadata": {},
     "output_type": "execute_result"
    }
   ],
   "source": [
    "df['id'].size"
   ]
  },
  {
   "cell_type": "code",
   "execution_count": 139,
   "id": "b96639db-70f5-4f2c-a6a9-6c0e25624560",
   "metadata": {},
   "outputs": [
    {
     "data": {
      "text/plain": [
       "45"
      ]
     },
     "execution_count": 139,
     "metadata": {},
     "output_type": "execute_result"
    }
   ],
   "source": [
    "df['id'].size-df['id'].nunique()"
   ]
  },
  {
   "cell_type": "code",
   "execution_count": 74,
   "id": "bd168261-2eca-4a06-b632-fa0b48e4be31",
   "metadata": {},
   "outputs": [
    {
     "data": {
      "text/html": [
       "<div>\n",
       "<style scoped>\n",
       "    .dataframe tbody tr th:only-of-type {\n",
       "        vertical-align: middle;\n",
       "    }\n",
       "\n",
       "    .dataframe tbody tr th {\n",
       "        vertical-align: top;\n",
       "    }\n",
       "\n",
       "    .dataframe thead th {\n",
       "        text-align: right;\n",
       "    }\n",
       "</style>\n",
       "<table border=\"1\" class=\"dataframe\">\n",
       "  <thead>\n",
       "    <tr style=\"text-align: right;\">\n",
       "      <th></th>\n",
       "      <th>Price</th>\n",
       "      <th>Bedrooms</th>\n",
       "      <th>Bathrooms</th>\n",
       "      <th>Area</th>\n",
       "      <th>Location</th>\n",
       "      <th>date</th>\n",
       "      <th>id</th>\n",
       "    </tr>\n",
       "  </thead>\n",
       "  <tbody>\n",
       "    <tr>\n",
       "      <th>0</th>\n",
       "      <td>1100000</td>\n",
       "      <td>3</td>\n",
       "      <td>2</td>\n",
       "      <td>165</td>\n",
       "      <td>Seyouf</td>\n",
       "      <td>2023-01-26</td>\n",
       "      <td>194727255</td>\n",
       "    </tr>\n",
       "    <tr>\n",
       "      <th>1</th>\n",
       "      <td>2050000</td>\n",
       "      <td>4</td>\n",
       "      <td>2</td>\n",
       "      <td>205</td>\n",
       "      <td>Laurent</td>\n",
       "      <td>2023-01-26</td>\n",
       "      <td>195269781</td>\n",
       "    </tr>\n",
       "    <tr>\n",
       "      <th>2</th>\n",
       "      <td>1150000</td>\n",
       "      <td>2</td>\n",
       "      <td>1</td>\n",
       "      <td>110</td>\n",
       "      <td>Sidi Beshr</td>\n",
       "      <td>2023-01-26</td>\n",
       "      <td>195311167</td>\n",
       "    </tr>\n",
       "    <tr>\n",
       "      <th>3</th>\n",
       "      <td>3250000</td>\n",
       "      <td>1</td>\n",
       "      <td>2</td>\n",
       "      <td>77</td>\n",
       "      <td>Moharam Bik</td>\n",
       "      <td>2023-01-26</td>\n",
       "      <td>195021040</td>\n",
       "    </tr>\n",
       "    <tr>\n",
       "      <th>4</th>\n",
       "      <td>5850000</td>\n",
       "      <td>2</td>\n",
       "      <td>3</td>\n",
       "      <td>142</td>\n",
       "      <td>Moharam Bik</td>\n",
       "      <td>2023-01-26</td>\n",
       "      <td>195021675</td>\n",
       "    </tr>\n",
       "  </tbody>\n",
       "</table>\n",
       "</div>"
      ],
      "text/plain": [
       "     Price  Bedrooms  Bathrooms  Area     Location        date         id\n",
       "0  1100000         3          2   165       Seyouf  2023-01-26  194727255\n",
       "1  2050000         4          2   205      Laurent  2023-01-26  195269781\n",
       "2  1150000         2          1   110   Sidi Beshr  2023-01-26  195311167\n",
       "3  3250000         1          2    77  Moharam Bik  2023-01-26  195021040\n",
       "4  5850000         2          3   142  Moharam Bik  2023-01-26  195021675"
      ]
     },
     "execution_count": 74,
     "metadata": {},
     "output_type": "execute_result"
    }
   ],
   "source": [
    "df.head()"
   ]
  },
  {
   "cell_type": "code",
   "execution_count": 75,
   "id": "b70cf64b-c4f7-4776-abc8-8cbb53eb9ef0",
   "metadata": {},
   "outputs": [
    {
     "name": "stdout",
     "output_type": "stream",
     "text": [
      "<class 'pandas.core.frame.DataFrame'>\n",
      "RangeIndex: 5911 entries, 0 to 5910\n",
      "Data columns (total 7 columns):\n",
      " #   Column     Non-Null Count  Dtype \n",
      "---  ------     --------------  ----- \n",
      " 0   Price      5911 non-null   int32 \n",
      " 1   Bedrooms   5911 non-null   int64 \n",
      " 2   Bathrooms  5911 non-null   int32 \n",
      " 3   Area       5911 non-null   int32 \n",
      " 4   Location   5911 non-null   object\n",
      " 5   date       5911 non-null   object\n",
      " 6   id         5911 non-null   int64 \n",
      "dtypes: int32(3), int64(2), object(2)\n",
      "memory usage: 254.1+ KB\n"
     ]
    }
   ],
   "source": [
    "df.info()"
   ]
  },
  {
   "cell_type": "code",
   "execution_count": 40,
   "id": "2535d3ac-14aa-458f-973b-43d4ae0d7ce7",
   "metadata": {},
   "outputs": [
    {
     "data": {
      "text/plain": [
       "array(['Seyouf', 'Laurent', 'Sidi Beshr', 'Moharam Bik', 'Asafra',\n",
       "       'Smoha', 'Zezenia', 'Miami', 'Roushdy', 'Kafr Abdo', 'Glim',\n",
       "       'Bolkly', 'Sporting', 'Al Ibrahimiyyah', 'San Stefano',\n",
       "       'Cleopatra', 'Saba Pasha', 'Gianaclis', 'Agami', 'Amreya',\n",
       "       'Nakheel', 'Montazah', 'Raml Station', 'Bacchus', 'Victoria',\n",
       "       'Attarin', 'Abu Talat', 'Mandara', 'Camp Caesar', 'Abu Qir',\n",
       "       'Maamoura', 'Schutz', 'Stanley', 'Sidi Gaber', 'Dekheila',\n",
       "       'Bahray - Anfoshy', 'Azarita', 'Fleming', 'Gomrok', 'Labban',\n",
       "       'Borg al-Arab', 'Dhahria', 'Awayed', '•', 'Manshiyya', 'Al Hadrah',\n",
       "       'Wardian', 'El Max', 'Salehia', 'Ras El Tin', 'Shatby',\n",
       "       'Koum al-Dikka', 'Kabbary'], dtype=object)"
      ]
     },
     "execution_count": 40,
     "metadata": {},
     "output_type": "execute_result"
    }
   ],
   "source": [
    "df[\"Location\"].unique()"
   ]
  },
  {
   "cell_type": "markdown",
   "id": "65a7b0bf-a38d-43c1-8c14-7d7bf6eb043f",
   "metadata": {},
   "source": [
    "# Lets replace \"Laurent\" with \"Louran\""
   ]
  },
  {
   "cell_type": "code",
   "execution_count": 41,
   "id": "d539f109-0a34-4688-819f-682fb73babbf",
   "metadata": {},
   "outputs": [],
   "source": [
    "df[\"Location\"] = df[\"Location\"].str.replace('Laurent', \"Louran\")"
   ]
  },
  {
   "cell_type": "code",
   "execution_count": 42,
   "id": "61906088-0fa3-4c7c-8246-1e0ee53d04ca",
   "metadata": {},
   "outputs": [
    {
     "data": {
      "text/plain": [
       "array(['Seyouf', 'Louran', 'Sidi Beshr', 'Moharam Bik', 'Asafra', 'Smoha',\n",
       "       'Zezenia', 'Miami', 'Roushdy', 'Kafr Abdo', 'Glim', 'Bolkly',\n",
       "       'Sporting', 'Al Ibrahimiyyah', 'San Stefano', 'Cleopatra',\n",
       "       'Saba Pasha', 'Gianaclis', 'Agami', 'Amreya', 'Nakheel',\n",
       "       'Montazah', 'Raml Station', 'Bacchus', 'Victoria', 'Attarin',\n",
       "       'Abu Talat', 'Mandara', 'Camp Caesar', 'Abu Qir', 'Maamoura',\n",
       "       'Schutz', 'Stanley', 'Sidi Gaber', 'Dekheila', 'Bahray - Anfoshy',\n",
       "       'Azarita', 'Fleming', 'Gomrok', 'Labban', 'Borg al-Arab',\n",
       "       'Dhahria', 'Awayed', '•', 'Manshiyya', 'Al Hadrah', 'Wardian',\n",
       "       'El Max', 'Salehia', 'Ras El Tin', 'Shatby', 'Koum al-Dikka',\n",
       "       'Kabbary'], dtype=object)"
      ]
     },
     "execution_count": 42,
     "metadata": {},
     "output_type": "execute_result"
    }
   ],
   "source": [
    "df[\"Location\"].unique()"
   ]
  },
  {
   "cell_type": "code",
   "execution_count": 43,
   "id": "79640533-9dd2-4693-aa89-0bd0e7edeee2",
   "metadata": {},
   "outputs": [
    {
     "data": {
      "text/html": [
       "<div>\n",
       "<style scoped>\n",
       "    .dataframe tbody tr th:only-of-type {\n",
       "        vertical-align: middle;\n",
       "    }\n",
       "\n",
       "    .dataframe tbody tr th {\n",
       "        vertical-align: top;\n",
       "    }\n",
       "\n",
       "    .dataframe thead th {\n",
       "        text-align: right;\n",
       "    }\n",
       "</style>\n",
       "<table border=\"1\" class=\"dataframe\">\n",
       "  <thead>\n",
       "    <tr style=\"text-align: right;\">\n",
       "      <th></th>\n",
       "      <th>Price</th>\n",
       "      <th>Bedrooms</th>\n",
       "      <th>Bathrooms</th>\n",
       "      <th>Area</th>\n",
       "      <th>Location</th>\n",
       "      <th>date</th>\n",
       "      <th>id</th>\n",
       "    </tr>\n",
       "  </thead>\n",
       "  <tbody>\n",
       "    <tr>\n",
       "      <th>0</th>\n",
       "      <td>1100000</td>\n",
       "      <td>3</td>\n",
       "      <td>2</td>\n",
       "      <td>165</td>\n",
       "      <td>Seyouf</td>\n",
       "      <td>2023-01-26</td>\n",
       "      <td>194727255</td>\n",
       "    </tr>\n",
       "    <tr>\n",
       "      <th>1</th>\n",
       "      <td>2050000</td>\n",
       "      <td>4</td>\n",
       "      <td>2</td>\n",
       "      <td>205</td>\n",
       "      <td>Louran</td>\n",
       "      <td>2023-01-26</td>\n",
       "      <td>195269781</td>\n",
       "    </tr>\n",
       "    <tr>\n",
       "      <th>2</th>\n",
       "      <td>1150000</td>\n",
       "      <td>2</td>\n",
       "      <td>1</td>\n",
       "      <td>110</td>\n",
       "      <td>Sidi Beshr</td>\n",
       "      <td>2023-01-26</td>\n",
       "      <td>195311167</td>\n",
       "    </tr>\n",
       "    <tr>\n",
       "      <th>3</th>\n",
       "      <td>3250000</td>\n",
       "      <td>1</td>\n",
       "      <td>2</td>\n",
       "      <td>77</td>\n",
       "      <td>Moharam Bik</td>\n",
       "      <td>2023-01-26</td>\n",
       "      <td>195021040</td>\n",
       "    </tr>\n",
       "    <tr>\n",
       "      <th>4</th>\n",
       "      <td>5850000</td>\n",
       "      <td>2</td>\n",
       "      <td>3</td>\n",
       "      <td>142</td>\n",
       "      <td>Moharam Bik</td>\n",
       "      <td>2023-01-26</td>\n",
       "      <td>195021675</td>\n",
       "    </tr>\n",
       "  </tbody>\n",
       "</table>\n",
       "</div>"
      ],
      "text/plain": [
       "     Price  Bedrooms  Bathrooms  Area     Location        date         id\n",
       "0  1100000         3          2   165       Seyouf  2023-01-26  194727255\n",
       "1  2050000         4          2   205       Louran  2023-01-26  195269781\n",
       "2  1150000         2          1   110   Sidi Beshr  2023-01-26  195311167\n",
       "3  3250000         1          2    77  Moharam Bik  2023-01-26  195021040\n",
       "4  5850000         2          3   142  Moharam Bik  2023-01-26  195021675"
      ]
     },
     "execution_count": 43,
     "metadata": {},
     "output_type": "execute_result"
    }
   ],
   "source": [
    "df.head()"
   ]
  },
  {
   "cell_type": "code",
   "execution_count": 44,
   "id": "b3c9c3ba-fc60-404d-aa1f-c6b5b95609d9",
   "metadata": {},
   "outputs": [
    {
     "name": "stdout",
     "output_type": "stream",
     "text": [
      "<class 'pandas.core.frame.DataFrame'>\n",
      "RangeIndex: 5911 entries, 0 to 5910\n",
      "Data columns (total 7 columns):\n",
      " #   Column     Non-Null Count  Dtype \n",
      "---  ------     --------------  ----- \n",
      " 0   Price      5911 non-null   int32 \n",
      " 1   Bedrooms   5911 non-null   int64 \n",
      " 2   Bathrooms  5911 non-null   int32 \n",
      " 3   Area       5911 non-null   int32 \n",
      " 4   Location   5911 non-null   object\n",
      " 5   date       5911 non-null   object\n",
      " 6   id         5911 non-null   int64 \n",
      "dtypes: int32(3), int64(2), object(2)\n",
      "memory usage: 254.1+ KB\n"
     ]
    }
   ],
   "source": [
    "df.info()"
   ]
  },
  {
   "cell_type": "markdown",
   "id": "f2682b7f-ad9c-49bf-95f2-f32f3863147d",
   "metadata": {},
   "source": [
    "# Finally, It's All Clean Lets now save it"
   ]
  },
  {
   "cell_type": "code",
   "execution_count": 24,
   "id": "d5e58495-f8b4-4d9b-9048-7999d32a2f6f",
   "metadata": {},
   "outputs": [
    {
     "name": "stdout",
     "output_type": "stream",
     "text": [
      "clean_data(01-31-23)\n"
     ]
    }
   ],
   "source": [
    "today = date.today()\n",
    "current_date = today.strftime(\"%m-%d-%y\")\n",
    "csv_name=\"clean_data({})\".format(current_date)\n",
    "print(csv_name)"
   ]
  },
  {
   "cell_type": "code",
   "execution_count": 25,
   "id": "61405b5d-9f2e-46df-b0e0-e5226f16dc5b",
   "metadata": {},
   "outputs": [],
   "source": [
    "df.to_csv(\"Data/\"+csv_name+\".csv\",index=False)"
   ]
  }
 ],
 "metadata": {
  "kernelspec": {
   "display_name": "Python 3 (ipykernel)",
   "language": "python",
   "name": "python3"
  },
  "language_info": {
   "codemirror_mode": {
    "name": "ipython",
    "version": 3
   },
   "file_extension": ".py",
   "mimetype": "text/x-python",
   "name": "python",
   "nbconvert_exporter": "python",
   "pygments_lexer": "ipython3",
   "version": "3.9.12"
  }
 },
 "nbformat": 4,
 "nbformat_minor": 5
}
